{
 "cells": [
  {
   "cell_type": "code",
   "execution_count": 1,
   "id": "9118b50b",
   "metadata": {},
   "outputs": [],
   "source": [
    "import pandas as pd\n",
    "import numpy as np\n",
    "import matplotlib.pyplot as plt\n",
    "import os\n",
    "from scipy import stats\n",
    "import warnings\n",
    "warnings.filterwarnings('ignore')\n",
    "import seaborn as sns"
   ]
  },
  {
   "cell_type": "code",
   "execution_count": 2,
   "id": "9f8dd735",
   "metadata": {
    "scrolled": true
   },
   "outputs": [],
   "source": [
    "os.chdir(\"C:\\\\Users\\\\adams\\\\Documents\\\\Bakalárska práca\\\\archive\")\n",
    "\n",
    "df = pd.read_csv(\"summer-products-with-rating-and-performance_2020-08.csv\")"
   ]
  },
  {
   "cell_type": "code",
   "execution_count": 3,
   "id": "9ee431e2",
   "metadata": {
    "scrolled": true
   },
   "outputs": [
    {
     "data": {
      "text/html": [
       "<div>\n",
       "<style scoped>\n",
       "    .dataframe tbody tr th:only-of-type {\n",
       "        vertical-align: middle;\n",
       "    }\n",
       "\n",
       "    .dataframe tbody tr th {\n",
       "        vertical-align: top;\n",
       "    }\n",
       "\n",
       "    .dataframe thead th {\n",
       "        text-align: right;\n",
       "    }\n",
       "</style>\n",
       "<table border=\"1\" class=\"dataframe\">\n",
       "  <thead>\n",
       "    <tr style=\"text-align: right;\">\n",
       "      <th></th>\n",
       "      <th>title</th>\n",
       "      <th>title_orig</th>\n",
       "      <th>price</th>\n",
       "      <th>retail_price</th>\n",
       "      <th>currency_buyer</th>\n",
       "      <th>units_sold</th>\n",
       "      <th>uses_ad_boosts</th>\n",
       "      <th>rating</th>\n",
       "      <th>rating_count</th>\n",
       "      <th>rating_five_count</th>\n",
       "      <th>...</th>\n",
       "      <th>merchant_rating_count</th>\n",
       "      <th>merchant_rating</th>\n",
       "      <th>merchant_id</th>\n",
       "      <th>merchant_has_profile_picture</th>\n",
       "      <th>merchant_profile_picture</th>\n",
       "      <th>product_url</th>\n",
       "      <th>product_picture</th>\n",
       "      <th>product_id</th>\n",
       "      <th>theme</th>\n",
       "      <th>crawl_month</th>\n",
       "    </tr>\n",
       "  </thead>\n",
       "  <tbody>\n",
       "    <tr>\n",
       "      <th>0</th>\n",
       "      <td>2020 Summer Vintage Flamingo Print  Pajamas Se...</td>\n",
       "      <td>2020 Summer Vintage Flamingo Print  Pajamas Se...</td>\n",
       "      <td>16.00</td>\n",
       "      <td>14</td>\n",
       "      <td>EUR</td>\n",
       "      <td>100</td>\n",
       "      <td>0</td>\n",
       "      <td>3.76</td>\n",
       "      <td>54</td>\n",
       "      <td>26.0</td>\n",
       "      <td>...</td>\n",
       "      <td>568</td>\n",
       "      <td>4.128521</td>\n",
       "      <td>595097d6a26f6e070cb878d1</td>\n",
       "      <td>0</td>\n",
       "      <td>NaN</td>\n",
       "      <td>https://www.wish.com/c/5e9ae51d43d6a96e303acdb0</td>\n",
       "      <td>https://contestimg.wish.com/api/webimage/5e9ae...</td>\n",
       "      <td>5e9ae51d43d6a96e303acdb0</td>\n",
       "      <td>summer</td>\n",
       "      <td>2020-08</td>\n",
       "    </tr>\n",
       "    <tr>\n",
       "      <th>1</th>\n",
       "      <td>SSHOUSE Summer Casual Sleeveless Soirée Party ...</td>\n",
       "      <td>Women's Casual Summer Sleeveless Sexy Mini Dress</td>\n",
       "      <td>8.00</td>\n",
       "      <td>22</td>\n",
       "      <td>EUR</td>\n",
       "      <td>20000</td>\n",
       "      <td>1</td>\n",
       "      <td>3.45</td>\n",
       "      <td>6135</td>\n",
       "      <td>2269.0</td>\n",
       "      <td>...</td>\n",
       "      <td>17752</td>\n",
       "      <td>3.899673</td>\n",
       "      <td>56458aa03a698c35c9050988</td>\n",
       "      <td>0</td>\n",
       "      <td>NaN</td>\n",
       "      <td>https://www.wish.com/c/58940d436a0d3d5da4e95a38</td>\n",
       "      <td>https://contestimg.wish.com/api/webimage/58940...</td>\n",
       "      <td>58940d436a0d3d5da4e95a38</td>\n",
       "      <td>summer</td>\n",
       "      <td>2020-08</td>\n",
       "    </tr>\n",
       "    <tr>\n",
       "      <th>2</th>\n",
       "      <td>2020 Nouvelle Arrivée Femmes Printemps et Été ...</td>\n",
       "      <td>2020 New Arrival Women Spring and Summer Beach...</td>\n",
       "      <td>8.00</td>\n",
       "      <td>43</td>\n",
       "      <td>EUR</td>\n",
       "      <td>100</td>\n",
       "      <td>0</td>\n",
       "      <td>3.57</td>\n",
       "      <td>14</td>\n",
       "      <td>5.0</td>\n",
       "      <td>...</td>\n",
       "      <td>295</td>\n",
       "      <td>3.989831</td>\n",
       "      <td>5d464a1ffdf7bc44ee933c65</td>\n",
       "      <td>0</td>\n",
       "      <td>NaN</td>\n",
       "      <td>https://www.wish.com/c/5ea10e2c617580260d55310a</td>\n",
       "      <td>https://contestimg.wish.com/api/webimage/5ea10...</td>\n",
       "      <td>5ea10e2c617580260d55310a</td>\n",
       "      <td>summer</td>\n",
       "      <td>2020-08</td>\n",
       "    </tr>\n",
       "    <tr>\n",
       "      <th>3</th>\n",
       "      <td>Hot Summer Cool T-shirt pour les femmes Mode T...</td>\n",
       "      <td>Hot Summer Cool T Shirt for Women Fashion Tops...</td>\n",
       "      <td>8.00</td>\n",
       "      <td>8</td>\n",
       "      <td>EUR</td>\n",
       "      <td>5000</td>\n",
       "      <td>1</td>\n",
       "      <td>4.03</td>\n",
       "      <td>579</td>\n",
       "      <td>295.0</td>\n",
       "      <td>...</td>\n",
       "      <td>23832</td>\n",
       "      <td>4.020435</td>\n",
       "      <td>58cfdefdacb37b556efdff7c</td>\n",
       "      <td>0</td>\n",
       "      <td>NaN</td>\n",
       "      <td>https://www.wish.com/c/5cedf17ad1d44c52c59e4aca</td>\n",
       "      <td>https://contestimg.wish.com/api/webimage/5cedf...</td>\n",
       "      <td>5cedf17ad1d44c52c59e4aca</td>\n",
       "      <td>summer</td>\n",
       "      <td>2020-08</td>\n",
       "    </tr>\n",
       "    <tr>\n",
       "      <th>4</th>\n",
       "      <td>Femmes Shorts d'été à lacets taille élastique ...</td>\n",
       "      <td>Women Summer Shorts Lace Up Elastic Waistband ...</td>\n",
       "      <td>2.72</td>\n",
       "      <td>3</td>\n",
       "      <td>EUR</td>\n",
       "      <td>100</td>\n",
       "      <td>1</td>\n",
       "      <td>3.10</td>\n",
       "      <td>20</td>\n",
       "      <td>6.0</td>\n",
       "      <td>...</td>\n",
       "      <td>14482</td>\n",
       "      <td>4.001588</td>\n",
       "      <td>5ab3b592c3911a095ad5dadb</td>\n",
       "      <td>0</td>\n",
       "      <td>NaN</td>\n",
       "      <td>https://www.wish.com/c/5ebf5819ebac372b070b0e70</td>\n",
       "      <td>https://contestimg.wish.com/api/webimage/5ebf5...</td>\n",
       "      <td>5ebf5819ebac372b070b0e70</td>\n",
       "      <td>summer</td>\n",
       "      <td>2020-08</td>\n",
       "    </tr>\n",
       "  </tbody>\n",
       "</table>\n",
       "<p>5 rows × 43 columns</p>\n",
       "</div>"
      ],
      "text/plain": [
       "                                               title  \\\n",
       "0  2020 Summer Vintage Flamingo Print  Pajamas Se...   \n",
       "1  SSHOUSE Summer Casual Sleeveless Soirée Party ...   \n",
       "2  2020 Nouvelle Arrivée Femmes Printemps et Été ...   \n",
       "3  Hot Summer Cool T-shirt pour les femmes Mode T...   \n",
       "4  Femmes Shorts d'été à lacets taille élastique ...   \n",
       "\n",
       "                                          title_orig  price  retail_price  \\\n",
       "0  2020 Summer Vintage Flamingo Print  Pajamas Se...  16.00            14   \n",
       "1   Women's Casual Summer Sleeveless Sexy Mini Dress   8.00            22   \n",
       "2  2020 New Arrival Women Spring and Summer Beach...   8.00            43   \n",
       "3  Hot Summer Cool T Shirt for Women Fashion Tops...   8.00             8   \n",
       "4  Women Summer Shorts Lace Up Elastic Waistband ...   2.72             3   \n",
       "\n",
       "  currency_buyer  units_sold  uses_ad_boosts  rating  rating_count  \\\n",
       "0            EUR         100               0    3.76            54   \n",
       "1            EUR       20000               1    3.45          6135   \n",
       "2            EUR         100               0    3.57            14   \n",
       "3            EUR        5000               1    4.03           579   \n",
       "4            EUR         100               1    3.10            20   \n",
       "\n",
       "   rating_five_count  ...  merchant_rating_count  merchant_rating  \\\n",
       "0               26.0  ...                    568         4.128521   \n",
       "1             2269.0  ...                  17752         3.899673   \n",
       "2                5.0  ...                    295         3.989831   \n",
       "3              295.0  ...                  23832         4.020435   \n",
       "4                6.0  ...                  14482         4.001588   \n",
       "\n",
       "                merchant_id  merchant_has_profile_picture  \\\n",
       "0  595097d6a26f6e070cb878d1                             0   \n",
       "1  56458aa03a698c35c9050988                             0   \n",
       "2  5d464a1ffdf7bc44ee933c65                             0   \n",
       "3  58cfdefdacb37b556efdff7c                             0   \n",
       "4  5ab3b592c3911a095ad5dadb                             0   \n",
       "\n",
       "   merchant_profile_picture                                      product_url  \\\n",
       "0                       NaN  https://www.wish.com/c/5e9ae51d43d6a96e303acdb0   \n",
       "1                       NaN  https://www.wish.com/c/58940d436a0d3d5da4e95a38   \n",
       "2                       NaN  https://www.wish.com/c/5ea10e2c617580260d55310a   \n",
       "3                       NaN  https://www.wish.com/c/5cedf17ad1d44c52c59e4aca   \n",
       "4                       NaN  https://www.wish.com/c/5ebf5819ebac372b070b0e70   \n",
       "\n",
       "                                     product_picture  \\\n",
       "0  https://contestimg.wish.com/api/webimage/5e9ae...   \n",
       "1  https://contestimg.wish.com/api/webimage/58940...   \n",
       "2  https://contestimg.wish.com/api/webimage/5ea10...   \n",
       "3  https://contestimg.wish.com/api/webimage/5cedf...   \n",
       "4  https://contestimg.wish.com/api/webimage/5ebf5...   \n",
       "\n",
       "                 product_id   theme crawl_month  \n",
       "0  5e9ae51d43d6a96e303acdb0  summer     2020-08  \n",
       "1  58940d436a0d3d5da4e95a38  summer     2020-08  \n",
       "2  5ea10e2c617580260d55310a  summer     2020-08  \n",
       "3  5cedf17ad1d44c52c59e4aca  summer     2020-08  \n",
       "4  5ebf5819ebac372b070b0e70  summer     2020-08  \n",
       "\n",
       "[5 rows x 43 columns]"
      ]
     },
     "execution_count": 3,
     "metadata": {},
     "output_type": "execute_result"
    }
   ],
   "source": [
    "df.head()"
   ]
  },
  {
   "cell_type": "code",
   "execution_count": 4,
   "id": "07c24460",
   "metadata": {},
   "outputs": [
    {
     "name": "stdout",
     "output_type": "stream",
     "text": [
      "<class 'pandas.core.frame.DataFrame'>\n",
      "RangeIndex: 1573 entries, 0 to 1572\n",
      "Data columns (total 43 columns):\n",
      " #   Column                        Non-Null Count  Dtype  \n",
      "---  ------                        --------------  -----  \n",
      " 0   title                         1573 non-null   object \n",
      " 1   title_orig                    1573 non-null   object \n",
      " 2   price                         1573 non-null   float64\n",
      " 3   retail_price                  1573 non-null   int64  \n",
      " 4   currency_buyer                1573 non-null   object \n",
      " 5   units_sold                    1573 non-null   int64  \n",
      " 6   uses_ad_boosts                1573 non-null   int64  \n",
      " 7   rating                        1573 non-null   float64\n",
      " 8   rating_count                  1573 non-null   int64  \n",
      " 9   rating_five_count             1528 non-null   float64\n",
      " 10  rating_four_count             1528 non-null   float64\n",
      " 11  rating_three_count            1528 non-null   float64\n",
      " 12  rating_two_count              1528 non-null   float64\n",
      " 13  rating_one_count              1528 non-null   float64\n",
      " 14  badges_count                  1573 non-null   int64  \n",
      " 15  badge_local_product           1573 non-null   int64  \n",
      " 16  badge_product_quality         1573 non-null   int64  \n",
      " 17  badge_fast_shipping           1573 non-null   int64  \n",
      " 18  tags                          1573 non-null   object \n",
      " 19  product_color                 1532 non-null   object \n",
      " 20  product_variation_size_id     1559 non-null   object \n",
      " 21  product_variation_inventory   1573 non-null   int64  \n",
      " 22  shipping_option_name          1573 non-null   object \n",
      " 23  shipping_option_price         1573 non-null   int64  \n",
      " 24  shipping_is_express           1573 non-null   int64  \n",
      " 25  countries_shipped_to          1573 non-null   int64  \n",
      " 26  inventory_total               1573 non-null   int64  \n",
      " 27  has_urgency_banner            473 non-null    float64\n",
      " 28  urgency_text                  473 non-null    object \n",
      " 29  origin_country                1556 non-null   object \n",
      " 30  merchant_title                1573 non-null   object \n",
      " 31  merchant_name                 1569 non-null   object \n",
      " 32  merchant_info_subtitle        1572 non-null   object \n",
      " 33  merchant_rating_count         1573 non-null   int64  \n",
      " 34  merchant_rating               1573 non-null   float64\n",
      " 35  merchant_id                   1573 non-null   object \n",
      " 36  merchant_has_profile_picture  1573 non-null   int64  \n",
      " 37  merchant_profile_picture      226 non-null    object \n",
      " 38  product_url                   1573 non-null   object \n",
      " 39  product_picture               1573 non-null   object \n",
      " 40  product_id                    1573 non-null   object \n",
      " 41  theme                         1573 non-null   object \n",
      " 42  crawl_month                   1573 non-null   object \n",
      "dtypes: float64(9), int64(15), object(19)\n",
      "memory usage: 528.6+ KB\n"
     ]
    }
   ],
   "source": [
    "df.info()"
   ]
  },
  {
   "cell_type": "code",
   "execution_count": 5,
   "id": "8f1d0cb7",
   "metadata": {
    "scrolled": true
   },
   "outputs": [],
   "source": [
    "dupe=df[df.duplicated()]"
   ]
  },
  {
   "cell_type": "code",
   "execution_count": 6,
   "id": "48e29d84",
   "metadata": {},
   "outputs": [
    {
     "data": {
      "text/html": [
       "<div>\n",
       "<style scoped>\n",
       "    .dataframe tbody tr th:only-of-type {\n",
       "        vertical-align: middle;\n",
       "    }\n",
       "\n",
       "    .dataframe tbody tr th {\n",
       "        vertical-align: top;\n",
       "    }\n",
       "\n",
       "    .dataframe thead th {\n",
       "        text-align: right;\n",
       "    }\n",
       "</style>\n",
       "<table border=\"1\" class=\"dataframe\">\n",
       "  <thead>\n",
       "    <tr style=\"text-align: right;\">\n",
       "      <th></th>\n",
       "      <th>title</th>\n",
       "      <th>title_orig</th>\n",
       "      <th>price</th>\n",
       "      <th>retail_price</th>\n",
       "      <th>currency_buyer</th>\n",
       "      <th>units_sold</th>\n",
       "      <th>uses_ad_boosts</th>\n",
       "      <th>rating</th>\n",
       "      <th>rating_count</th>\n",
       "      <th>rating_five_count</th>\n",
       "      <th>...</th>\n",
       "      <th>merchant_rating_count</th>\n",
       "      <th>merchant_rating</th>\n",
       "      <th>merchant_id</th>\n",
       "      <th>merchant_has_profile_picture</th>\n",
       "      <th>merchant_profile_picture</th>\n",
       "      <th>product_url</th>\n",
       "      <th>product_picture</th>\n",
       "      <th>product_id</th>\n",
       "      <th>theme</th>\n",
       "      <th>crawl_month</th>\n",
       "    </tr>\n",
       "  </thead>\n",
       "  <tbody>\n",
       "    <tr>\n",
       "      <th>311</th>\n",
       "      <td>Women's Summer Fashion Spaghetti Strap Dress F...</td>\n",
       "      <td>Women's Summer Fashion Spaghetti Strap Dress F...</td>\n",
       "      <td>8.00</td>\n",
       "      <td>7</td>\n",
       "      <td>EUR</td>\n",
       "      <td>50</td>\n",
       "      <td>0</td>\n",
       "      <td>3.88</td>\n",
       "      <td>8</td>\n",
       "      <td>5.0</td>\n",
       "      <td>...</td>\n",
       "      <td>334</td>\n",
       "      <td>3.736527</td>\n",
       "      <td>5dda40561fead208515f98e2</td>\n",
       "      <td>0</td>\n",
       "      <td>NaN</td>\n",
       "      <td>https://www.wish.com/c/5ea91e4d29b81241e1d43b27</td>\n",
       "      <td>https://contestimg.wish.com/api/webimage/5ea91...</td>\n",
       "      <td>5ea91e4d29b81241e1d43b27</td>\n",
       "      <td>summer</td>\n",
       "      <td>2020-08</td>\n",
       "    </tr>\n",
       "    <tr>\n",
       "      <th>411</th>\n",
       "      <td>New Women Ladies Fashion Summer Skinny High Wa...</td>\n",
       "      <td>New Women Ladies Fashion Summer Skinny High Wa...</td>\n",
       "      <td>14.00</td>\n",
       "      <td>12</td>\n",
       "      <td>EUR</td>\n",
       "      <td>5000</td>\n",
       "      <td>1</td>\n",
       "      <td>4.06</td>\n",
       "      <td>643</td>\n",
       "      <td>365.0</td>\n",
       "      <td>...</td>\n",
       "      <td>80093</td>\n",
       "      <td>4.006692</td>\n",
       "      <td>583138b06339b410ab9663ec</td>\n",
       "      <td>0</td>\n",
       "      <td>NaN</td>\n",
       "      <td>https://www.wish.com/c/5c80e8a150c63d28c67b8f14</td>\n",
       "      <td>https://contestimg.wish.com/api/webimage/5c80e...</td>\n",
       "      <td>5c80e8a150c63d28c67b8f14</td>\n",
       "      <td>summer</td>\n",
       "      <td>2020-08</td>\n",
       "    </tr>\n",
       "    <tr>\n",
       "      <th>447</th>\n",
       "      <td>Womens Summer Fashion Lip Print 2pc Set Ladies...</td>\n",
       "      <td>Womens Summer Fashion Lip Print 2pc Set Ladies...</td>\n",
       "      <td>5.00</td>\n",
       "      <td>51</td>\n",
       "      <td>EUR</td>\n",
       "      <td>10</td>\n",
       "      <td>0</td>\n",
       "      <td>5.00</td>\n",
       "      <td>0</td>\n",
       "      <td>NaN</td>\n",
       "      <td>...</td>\n",
       "      <td>295</td>\n",
       "      <td>3.989831</td>\n",
       "      <td>5d464a1ffdf7bc44ee933c65</td>\n",
       "      <td>0</td>\n",
       "      <td>NaN</td>\n",
       "      <td>https://www.wish.com/c/5eb90ab5ad67f63678d15ed9</td>\n",
       "      <td>https://contestimg.wish.com/api/webimage/5eb90...</td>\n",
       "      <td>5eb90ab5ad67f63678d15ed9</td>\n",
       "      <td>summer</td>\n",
       "      <td>2020-08</td>\n",
       "    </tr>\n",
       "    <tr>\n",
       "      <th>505</th>\n",
       "      <td>Plus la taille des femmes de la mode lâche déc...</td>\n",
       "      <td>Plus Size Women's Fashion Loose Casual sleevel...</td>\n",
       "      <td>5.83</td>\n",
       "      <td>5</td>\n",
       "      <td>EUR</td>\n",
       "      <td>100</td>\n",
       "      <td>0</td>\n",
       "      <td>4.36</td>\n",
       "      <td>22</td>\n",
       "      <td>13.0</td>\n",
       "      <td>...</td>\n",
       "      <td>17471</td>\n",
       "      <td>3.952836</td>\n",
       "      <td>5aab3c8ea6bf7a704caec65c</td>\n",
       "      <td>0</td>\n",
       "      <td>NaN</td>\n",
       "      <td>https://www.wish.com/c/5e9932cab3eafb25c00ba79f</td>\n",
       "      <td>https://contestimg.wish.com/api/webimage/5e993...</td>\n",
       "      <td>5e9932cab3eafb25c00ba79f</td>\n",
       "      <td>summer</td>\n",
       "      <td>2020-08</td>\n",
       "    </tr>\n",
       "    <tr>\n",
       "      <th>571</th>\n",
       "      <td>Summer Women Fashion Fashion Robe courte sans ...</td>\n",
       "      <td>Summer Women Fashion Short Dress Sleeveless Wa...</td>\n",
       "      <td>8.00</td>\n",
       "      <td>51</td>\n",
       "      <td>EUR</td>\n",
       "      <td>100</td>\n",
       "      <td>0</td>\n",
       "      <td>4.29</td>\n",
       "      <td>31</td>\n",
       "      <td>19.0</td>\n",
       "      <td>...</td>\n",
       "      <td>5846</td>\n",
       "      <td>3.832535</td>\n",
       "      <td>5a792e56a71fbf471cf1fc99</td>\n",
       "      <td>0</td>\n",
       "      <td>NaN</td>\n",
       "      <td>https://www.wish.com/c/5d78eb19cc404c03393c83b5</td>\n",
       "      <td>https://contestimg.wish.com/api/webimage/5d78e...</td>\n",
       "      <td>5d78eb19cc404c03393c83b5</td>\n",
       "      <td>summer</td>\n",
       "      <td>2020-08</td>\n",
       "    </tr>\n",
       "    <tr>\n",
       "      <th>684</th>\n",
       "      <td>Femmes d'été Boho Maxi Polka Dot Robe Irréguli...</td>\n",
       "      <td>Summer Women Boho Maxi Polka Dot Dress Irregul...</td>\n",
       "      <td>6.00</td>\n",
       "      <td>6</td>\n",
       "      <td>EUR</td>\n",
       "      <td>100</td>\n",
       "      <td>1</td>\n",
       "      <td>3.67</td>\n",
       "      <td>27</td>\n",
       "      <td>9.0</td>\n",
       "      <td>...</td>\n",
       "      <td>4705</td>\n",
       "      <td>4.040595</td>\n",
       "      <td>580c7d0a8b67fa197454a2d1</td>\n",
       "      <td>0</td>\n",
       "      <td>NaN</td>\n",
       "      <td>https://www.wish.com/c/5e142dee04c3e579e89576a3</td>\n",
       "      <td>https://contestimg.wish.com/api/webimage/5e142...</td>\n",
       "      <td>5e142dee04c3e579e89576a3</td>\n",
       "      <td>summer</td>\n",
       "      <td>2020-08</td>\n",
       "    </tr>\n",
       "    <tr>\n",
       "      <th>689</th>\n",
       "      <td>Femmes d'été Mode Shorts de sport double couch...</td>\n",
       "      <td>Summer Women Fashion Double-Layer Sports Short...</td>\n",
       "      <td>3.76</td>\n",
       "      <td>7</td>\n",
       "      <td>EUR</td>\n",
       "      <td>50</td>\n",
       "      <td>0</td>\n",
       "      <td>3.50</td>\n",
       "      <td>8</td>\n",
       "      <td>4.0</td>\n",
       "      <td>...</td>\n",
       "      <td>3730</td>\n",
       "      <td>3.880429</td>\n",
       "      <td>58d8e8ebd929c652b9c04c05</td>\n",
       "      <td>0</td>\n",
       "      <td>NaN</td>\n",
       "      <td>https://www.wish.com/c/5ebe625c3cdb6c40b7b9231e</td>\n",
       "      <td>https://contestimg.wish.com/api/webimage/5ebe6...</td>\n",
       "      <td>5ebe625c3cdb6c40b7b9231e</td>\n",
       "      <td>summer</td>\n",
       "      <td>2020-08</td>\n",
       "    </tr>\n",
       "    <tr>\n",
       "      <th>698</th>\n",
       "      <td>Débardeur en coton sans manches pour femmes</td>\n",
       "      <td>Women's Summer Sleeveless Tank Cotton Vest Pri...</td>\n",
       "      <td>6.00</td>\n",
       "      <td>7</td>\n",
       "      <td>EUR</td>\n",
       "      <td>50</td>\n",
       "      <td>0</td>\n",
       "      <td>2.67</td>\n",
       "      <td>3</td>\n",
       "      <td>1.0</td>\n",
       "      <td>...</td>\n",
       "      <td>1374</td>\n",
       "      <td>4.058952</td>\n",
       "      <td>5a2fa9ce6ea4a770c66f5599</td>\n",
       "      <td>0</td>\n",
       "      <td>NaN</td>\n",
       "      <td>https://www.wish.com/c/5eb4f323b67a8d189a8f8380</td>\n",
       "      <td>https://contestimg.wish.com/api/webimage/5eb4f...</td>\n",
       "      <td>5eb4f323b67a8d189a8f8380</td>\n",
       "      <td>summer</td>\n",
       "      <td>2020-08</td>\n",
       "    </tr>\n",
       "    <tr>\n",
       "      <th>770</th>\n",
       "      <td>Nouvelle mode d'été femmes robe décontractée c...</td>\n",
       "      <td>New Fashion Summer Women Casual Dress Round Ne...</td>\n",
       "      <td>2.00</td>\n",
       "      <td>9</td>\n",
       "      <td>EUR</td>\n",
       "      <td>100</td>\n",
       "      <td>0</td>\n",
       "      <td>3.47</td>\n",
       "      <td>32</td>\n",
       "      <td>11.0</td>\n",
       "      <td>...</td>\n",
       "      <td>4856</td>\n",
       "      <td>4.167628</td>\n",
       "      <td>5710ac98b2d43a5925da8dd8</td>\n",
       "      <td>0</td>\n",
       "      <td>NaN</td>\n",
       "      <td>https://www.wish.com/c/5e940265ea3640c9ca0353aa</td>\n",
       "      <td>https://contestimg.wish.com/api/webimage/5e940...</td>\n",
       "      <td>5e940265ea3640c9ca0353aa</td>\n",
       "      <td>summer</td>\n",
       "      <td>2020-08</td>\n",
       "    </tr>\n",
       "    <tr>\n",
       "      <th>991</th>\n",
       "      <td>2020 Shorts classiques pour hommes d'été Panta...</td>\n",
       "      <td>2020 Summer Men's Classic Shorts Multi-pocket ...</td>\n",
       "      <td>7.00</td>\n",
       "      <td>17</td>\n",
       "      <td>EUR</td>\n",
       "      <td>10</td>\n",
       "      <td>0</td>\n",
       "      <td>5.00</td>\n",
       "      <td>2</td>\n",
       "      <td>2.0</td>\n",
       "      <td>...</td>\n",
       "      <td>46</td>\n",
       "      <td>3.608696</td>\n",
       "      <td>5e2ecb9deed5087a7ba2f5f7</td>\n",
       "      <td>0</td>\n",
       "      <td>NaN</td>\n",
       "      <td>https://www.wish.com/c/5eeef4c4066647a9388a8ac2</td>\n",
       "      <td>https://contestimg.wish.com/api/webimage/5eeef...</td>\n",
       "      <td>5eeef4c4066647a9388a8ac2</td>\n",
       "      <td>summer</td>\n",
       "      <td>2020-08</td>\n",
       "    </tr>\n",
       "    <tr>\n",
       "      <th>997</th>\n",
       "      <td>S-5XL Nouvelle Mode Femmes Tops Blouse Sans Ma...</td>\n",
       "      <td>S-5XL New Fashion Women Tops Blouse Sleeveless...</td>\n",
       "      <td>4.83</td>\n",
       "      <td>51</td>\n",
       "      <td>EUR</td>\n",
       "      <td>50</td>\n",
       "      <td>1</td>\n",
       "      <td>2.00</td>\n",
       "      <td>1</td>\n",
       "      <td>0.0</td>\n",
       "      <td>...</td>\n",
       "      <td>57</td>\n",
       "      <td>3.824561</td>\n",
       "      <td>5e3c5fbfe217d492138970c1</td>\n",
       "      <td>0</td>\n",
       "      <td>NaN</td>\n",
       "      <td>https://www.wish.com/c/5ee8875404718a4bba2d6348</td>\n",
       "      <td>https://contestimg.wish.com/api/webimage/5ee88...</td>\n",
       "      <td>5ee8875404718a4bba2d6348</td>\n",
       "      <td>summer</td>\n",
       "      <td>2020-08</td>\n",
       "    </tr>\n",
       "    <tr>\n",
       "      <th>1003</th>\n",
       "      <td>6 Couleurs Automne Été Dames Casual Lâche Soli...</td>\n",
       "      <td>6 Colors Autumn Summer Ladies Casual Loose Sol...</td>\n",
       "      <td>9.00</td>\n",
       "      <td>8</td>\n",
       "      <td>EUR</td>\n",
       "      <td>100</td>\n",
       "      <td>1</td>\n",
       "      <td>3.18</td>\n",
       "      <td>72</td>\n",
       "      <td>17.0</td>\n",
       "      <td>...</td>\n",
       "      <td>288</td>\n",
       "      <td>3.729167</td>\n",
       "      <td>5de0981739adf2a3406bed18</td>\n",
       "      <td>0</td>\n",
       "      <td>NaN</td>\n",
       "      <td>https://www.wish.com/c/5eaa6d9c8d99eb3ec06709f4</td>\n",
       "      <td>https://contestimg.wish.com/api/webimage/5eaa6...</td>\n",
       "      <td>5eaa6d9c8d99eb3ec06709f4</td>\n",
       "      <td>summer</td>\n",
       "      <td>2020-08</td>\n",
       "    </tr>\n",
       "    <tr>\n",
       "      <th>1050</th>\n",
       "      <td>Débardeur pour femme Débardeur Bandage Plume I...</td>\n",
       "      <td>Women Tops Tank Bandage Feather Print Sleevele...</td>\n",
       "      <td>3.00</td>\n",
       "      <td>3</td>\n",
       "      <td>EUR</td>\n",
       "      <td>100</td>\n",
       "      <td>1</td>\n",
       "      <td>4.29</td>\n",
       "      <td>58</td>\n",
       "      <td>36.0</td>\n",
       "      <td>...</td>\n",
       "      <td>1050</td>\n",
       "      <td>3.883810</td>\n",
       "      <td>5a698cef028bbd27227d3d12</td>\n",
       "      <td>0</td>\n",
       "      <td>NaN</td>\n",
       "      <td>https://www.wish.com/c/5cde56ea6bbbd86b1cbab4a8</td>\n",
       "      <td>https://contestimg.wish.com/api/webimage/5cde5...</td>\n",
       "      <td>5cde56ea6bbbd86b1cbab4a8</td>\n",
       "      <td>summer</td>\n",
       "      <td>2020-08</td>\n",
       "    </tr>\n",
       "    <tr>\n",
       "      <th>1074</th>\n",
       "      <td>Femmes d'été Mode Débardeurs Sexy Sans Manches...</td>\n",
       "      <td>Women Summer Fashion Tank Tops Sexy Sleeveless...</td>\n",
       "      <td>2.00</td>\n",
       "      <td>2</td>\n",
       "      <td>EUR</td>\n",
       "      <td>1000</td>\n",
       "      <td>0</td>\n",
       "      <td>4.19</td>\n",
       "      <td>81</td>\n",
       "      <td>50.0</td>\n",
       "      <td>...</td>\n",
       "      <td>126370</td>\n",
       "      <td>4.146957</td>\n",
       "      <td>58ad449708de0c6dc59d9e06</td>\n",
       "      <td>1</td>\n",
       "      <td>https://s3-us-west-1.amazonaws.com/sweeper-pro...</td>\n",
       "      <td>https://www.wish.com/c/5e16cb87e6dd7c03be24b28a</td>\n",
       "      <td>https://contestimg.wish.com/api/webimage/5e16c...</td>\n",
       "      <td>5e16cb87e6dd7c03be24b28a</td>\n",
       "      <td>summer</td>\n",
       "      <td>2020-08</td>\n",
       "    </tr>\n",
       "    <tr>\n",
       "      <th>1109</th>\n",
       "      <td>Robe à bretelles lâche col en v pour femmes d'...</td>\n",
       "      <td>Summer Women's Loose V-neck Sling Dress Sleeve...</td>\n",
       "      <td>7.00</td>\n",
       "      <td>26</td>\n",
       "      <td>EUR</td>\n",
       "      <td>100</td>\n",
       "      <td>0</td>\n",
       "      <td>2.90</td>\n",
       "      <td>10</td>\n",
       "      <td>4.0</td>\n",
       "      <td>...</td>\n",
       "      <td>32</td>\n",
       "      <td>3.187500</td>\n",
       "      <td>5e54a05c207f9d3e6cee7040</td>\n",
       "      <td>0</td>\n",
       "      <td>NaN</td>\n",
       "      <td>https://www.wish.com/c/5e68ffbbe97f758d0698e049</td>\n",
       "      <td>https://contestimg.wish.com/api/webimage/5e68f...</td>\n",
       "      <td>5e68ffbbe97f758d0698e049</td>\n",
       "      <td>summer</td>\n",
       "      <td>2020-08</td>\n",
       "    </tr>\n",
       "    <tr>\n",
       "      <th>1138</th>\n",
       "      <td>NOUVELLES femmes manches courtes Baggy Summer ...</td>\n",
       "      <td>NEW Womens Short Sleeve Baggy Summer Beach Mid...</td>\n",
       "      <td>11.00</td>\n",
       "      <td>84</td>\n",
       "      <td>EUR</td>\n",
       "      <td>100</td>\n",
       "      <td>1</td>\n",
       "      <td>3.61</td>\n",
       "      <td>18</td>\n",
       "      <td>6.0</td>\n",
       "      <td>...</td>\n",
       "      <td>435</td>\n",
       "      <td>3.855172</td>\n",
       "      <td>5ac82ff62c49567ffa616535</td>\n",
       "      <td>0</td>\n",
       "      <td>NaN</td>\n",
       "      <td>https://www.wish.com/c/5e65d0ea5dc348884032a14e</td>\n",
       "      <td>https://contestimg.wish.com/api/webimage/5e65d...</td>\n",
       "      <td>5e65d0ea5dc348884032a14e</td>\n",
       "      <td>summer</td>\n",
       "      <td>2020-08</td>\n",
       "    </tr>\n",
       "    <tr>\n",
       "      <th>1173</th>\n",
       "      <td>Costume de sport cool pour hommes d'été Vêteme...</td>\n",
       "      <td>Summer mens cool sport suit Sports Wear Casual...</td>\n",
       "      <td>16.00</td>\n",
       "      <td>14</td>\n",
       "      <td>EUR</td>\n",
       "      <td>10</td>\n",
       "      <td>0</td>\n",
       "      <td>3.00</td>\n",
       "      <td>3</td>\n",
       "      <td>0.0</td>\n",
       "      <td>...</td>\n",
       "      <td>31</td>\n",
       "      <td>3.548387</td>\n",
       "      <td>5e61c817039ce2184a0ed392</td>\n",
       "      <td>0</td>\n",
       "      <td>NaN</td>\n",
       "      <td>https://www.wish.com/c/5e9a74e447f7d92c8db8d14b</td>\n",
       "      <td>https://contestimg.wish.com/api/webimage/5e9a7...</td>\n",
       "      <td>5e9a74e447f7d92c8db8d14b</td>\n",
       "      <td>summer</td>\n",
       "      <td>2020-08</td>\n",
       "    </tr>\n",
       "    <tr>\n",
       "      <th>1229</th>\n",
       "      <td>New Summer Women's New Fashion Sleeveless Polk...</td>\n",
       "      <td>New Summer Women's New Fashion Sleeveless Polk...</td>\n",
       "      <td>3.68</td>\n",
       "      <td>4</td>\n",
       "      <td>EUR</td>\n",
       "      <td>100</td>\n",
       "      <td>0</td>\n",
       "      <td>3.71</td>\n",
       "      <td>42</td>\n",
       "      <td>18.0</td>\n",
       "      <td>...</td>\n",
       "      <td>105015</td>\n",
       "      <td>3.789601</td>\n",
       "      <td>5177b0b63feb620dd802a197</td>\n",
       "      <td>0</td>\n",
       "      <td>NaN</td>\n",
       "      <td>https://www.wish.com/c/5d82f19340367911da1b9ee7</td>\n",
       "      <td>https://contestimg.wish.com/api/webimage/5d82f...</td>\n",
       "      <td>5d82f19340367911da1b9ee7</td>\n",
       "      <td>summer</td>\n",
       "      <td>2020-08</td>\n",
       "    </tr>\n",
       "    <tr>\n",
       "      <th>1251</th>\n",
       "      <td>Mini robe de soirée décontractée sans manches ...</td>\n",
       "      <td>Sexy Women's Summer Casual Sleeveless Evening ...</td>\n",
       "      <td>2.89</td>\n",
       "      <td>7</td>\n",
       "      <td>EUR</td>\n",
       "      <td>50</td>\n",
       "      <td>0</td>\n",
       "      <td>5.00</td>\n",
       "      <td>1</td>\n",
       "      <td>1.0</td>\n",
       "      <td>...</td>\n",
       "      <td>30</td>\n",
       "      <td>3.733333</td>\n",
       "      <td>5e535f1b397cba44cf1118d8</td>\n",
       "      <td>0</td>\n",
       "      <td>NaN</td>\n",
       "      <td>https://www.wish.com/c/5eba5b1c29367c77b5c0eb35</td>\n",
       "      <td>https://contestimg.wish.com/api/webimage/5eba5...</td>\n",
       "      <td>5eba5b1c29367c77b5c0eb35</td>\n",
       "      <td>summer</td>\n",
       "      <td>2020-08</td>\n",
       "    </tr>\n",
       "    <tr>\n",
       "      <th>1254</th>\n",
       "      <td>2020 Été Sexy Femmes Halter Tops Plage De Nata...</td>\n",
       "      <td>2020 Summer Sexy Women Halter Tops Beach Swimm...</td>\n",
       "      <td>7.00</td>\n",
       "      <td>6</td>\n",
       "      <td>EUR</td>\n",
       "      <td>100</td>\n",
       "      <td>0</td>\n",
       "      <td>3.60</td>\n",
       "      <td>25</td>\n",
       "      <td>10.0</td>\n",
       "      <td>...</td>\n",
       "      <td>483</td>\n",
       "      <td>4.155280</td>\n",
       "      <td>5d8b2f16ddac8e198fc7c8b7</td>\n",
       "      <td>0</td>\n",
       "      <td>NaN</td>\n",
       "      <td>https://www.wish.com/c/5dea1d9cec016f062ce8aab1</td>\n",
       "      <td>https://contestimg.wish.com/api/webimage/5dea1...</td>\n",
       "      <td>5dea1d9cec016f062ce8aab1</td>\n",
       "      <td>summer</td>\n",
       "      <td>2020-08</td>\n",
       "    </tr>\n",
       "    <tr>\n",
       "      <th>1262</th>\n",
       "      <td>Mode féminine d'été T-shirt à manches courtes ...</td>\n",
       "      <td>Summer Women's Fashion Short Sleeve T Shirt La...</td>\n",
       "      <td>1.72</td>\n",
       "      <td>2</td>\n",
       "      <td>EUR</td>\n",
       "      <td>100</td>\n",
       "      <td>1</td>\n",
       "      <td>3.77</td>\n",
       "      <td>30</td>\n",
       "      <td>15.0</td>\n",
       "      <td>...</td>\n",
       "      <td>32168</td>\n",
       "      <td>3.884544</td>\n",
       "      <td>558c2cdc89d53c4005ea2920</td>\n",
       "      <td>0</td>\n",
       "      <td>NaN</td>\n",
       "      <td>https://www.wish.com/c/5ebe0ead593b960eb1c82d0b</td>\n",
       "      <td>https://contestimg.wish.com/api/webimage/5ebe0...</td>\n",
       "      <td>5ebe0ead593b960eb1c82d0b</td>\n",
       "      <td>summer</td>\n",
       "      <td>2020-08</td>\n",
       "    </tr>\n",
       "    <tr>\n",
       "      <th>1271</th>\n",
       "      <td>2019 été nouvelle mode féminine \"Let It ~\" Bee...</td>\n",
       "      <td>2019 Summer New Women Fashion “ Let It ~“ Bee ...</td>\n",
       "      <td>11.00</td>\n",
       "      <td>10</td>\n",
       "      <td>EUR</td>\n",
       "      <td>10000</td>\n",
       "      <td>1</td>\n",
       "      <td>4.05</td>\n",
       "      <td>1479</td>\n",
       "      <td>754.0</td>\n",
       "      <td>...</td>\n",
       "      <td>5816</td>\n",
       "      <td>3.936382</td>\n",
       "      <td>58330d7def56284f7634e5e5</td>\n",
       "      <td>0</td>\n",
       "      <td>NaN</td>\n",
       "      <td>https://www.wish.com/c/5cedf93ac0baab7389f4ccd7</td>\n",
       "      <td>https://contestimg.wish.com/api/webimage/5cedf...</td>\n",
       "      <td>5cedf93ac0baab7389f4ccd7</td>\n",
       "      <td>summer</td>\n",
       "      <td>2020-08</td>\n",
       "    </tr>\n",
       "    <tr>\n",
       "      <th>1316</th>\n",
       "      <td>Femmes été décontracté lâche couleur unie salo...</td>\n",
       "      <td>Women Summer Casual Loose Solid Color Vintage ...</td>\n",
       "      <td>11.00</td>\n",
       "      <td>11</td>\n",
       "      <td>EUR</td>\n",
       "      <td>1000</td>\n",
       "      <td>0</td>\n",
       "      <td>2.99</td>\n",
       "      <td>228</td>\n",
       "      <td>59.0</td>\n",
       "      <td>...</td>\n",
       "      <td>5264</td>\n",
       "      <td>4.032865</td>\n",
       "      <td>5aa78a0c75599a5bd049d682</td>\n",
       "      <td>0</td>\n",
       "      <td>NaN</td>\n",
       "      <td>https://www.wish.com/c/5d410e4a11512c51311ad3d3</td>\n",
       "      <td>https://contestimg.wish.com/api/webimage/5d410...</td>\n",
       "      <td>5d410e4a11512c51311ad3d3</td>\n",
       "      <td>summer</td>\n",
       "      <td>2020-08</td>\n",
       "    </tr>\n",
       "    <tr>\n",
       "      <th>1331</th>\n",
       "      <td>Femmes D'été Nouvelle Mode Shorts De Sport Cou...</td>\n",
       "      <td>Women's Summer New Fashion Sports Shorts Solid...</td>\n",
       "      <td>7.00</td>\n",
       "      <td>6</td>\n",
       "      <td>EUR</td>\n",
       "      <td>50</td>\n",
       "      <td>0</td>\n",
       "      <td>4.00</td>\n",
       "      <td>4</td>\n",
       "      <td>3.0</td>\n",
       "      <td>...</td>\n",
       "      <td>34</td>\n",
       "      <td>4.352941</td>\n",
       "      <td>5d4bbed57ad242352a46d910</td>\n",
       "      <td>0</td>\n",
       "      <td>NaN</td>\n",
       "      <td>https://www.wish.com/c/5ebff6d34a4cf4438dba5d80</td>\n",
       "      <td>https://contestimg.wish.com/api/webimage/5ebff...</td>\n",
       "      <td>5ebff6d34a4cf4438dba5d80</td>\n",
       "      <td>summer</td>\n",
       "      <td>2020-08</td>\n",
       "    </tr>\n",
       "    <tr>\n",
       "      <th>1346</th>\n",
       "      <td>Nouvelle mode d'été femmes robe décontractée c...</td>\n",
       "      <td>New Fashion Summer Women Casual Dress Round Ne...</td>\n",
       "      <td>1.68</td>\n",
       "      <td>2</td>\n",
       "      <td>EUR</td>\n",
       "      <td>100</td>\n",
       "      <td>1</td>\n",
       "      <td>3.67</td>\n",
       "      <td>12</td>\n",
       "      <td>6.0</td>\n",
       "      <td>...</td>\n",
       "      <td>1047</td>\n",
       "      <td>3.956065</td>\n",
       "      <td>56cd50871e15ff78c21de8a9</td>\n",
       "      <td>0</td>\n",
       "      <td>NaN</td>\n",
       "      <td>https://www.wish.com/c/5e93d60ebc5446aedde50c50</td>\n",
       "      <td>https://contestimg.wish.com/api/webimage/5e93d...</td>\n",
       "      <td>5e93d60ebc5446aedde50c50</td>\n",
       "      <td>summer</td>\n",
       "      <td>2020-08</td>\n",
       "    </tr>\n",
       "    <tr>\n",
       "      <th>1387</th>\n",
       "      <td>Mode d'été femme papillon réservoir gilet sans...</td>\n",
       "      <td>Summer fashion female butterfly tank vest slee...</td>\n",
       "      <td>6.00</td>\n",
       "      <td>33</td>\n",
       "      <td>EUR</td>\n",
       "      <td>10</td>\n",
       "      <td>0</td>\n",
       "      <td>2.33</td>\n",
       "      <td>3</td>\n",
       "      <td>1.0</td>\n",
       "      <td>...</td>\n",
       "      <td>32394</td>\n",
       "      <td>3.924677</td>\n",
       "      <td>57864d704d669274929898fb</td>\n",
       "      <td>0</td>\n",
       "      <td>NaN</td>\n",
       "      <td>https://www.wish.com/c/5eb4dd1bba09581b242c01b0</td>\n",
       "      <td>https://contestimg.wish.com/api/webimage/5eb4d...</td>\n",
       "      <td>5eb4dd1bba09581b242c01b0</td>\n",
       "      <td>summer</td>\n",
       "      <td>2020-08</td>\n",
       "    </tr>\n",
       "    <tr>\n",
       "      <th>1433</th>\n",
       "      <td>Robe de plage à manches courtes Femmes Robe d'...</td>\n",
       "      <td>Short Sleeve Beach Dress Women Summer Print V ...</td>\n",
       "      <td>8.00</td>\n",
       "      <td>10</td>\n",
       "      <td>EUR</td>\n",
       "      <td>50</td>\n",
       "      <td>0</td>\n",
       "      <td>5.00</td>\n",
       "      <td>2</td>\n",
       "      <td>2.0</td>\n",
       "      <td>...</td>\n",
       "      <td>127</td>\n",
       "      <td>3.874016</td>\n",
       "      <td>5eb51ed929e7865dc268a561</td>\n",
       "      <td>0</td>\n",
       "      <td>NaN</td>\n",
       "      <td>https://www.wish.com/c/5ec1e63f7abee20ab93c68f2</td>\n",
       "      <td>https://contestimg.wish.com/api/webimage/5ec1e...</td>\n",
       "      <td>5ec1e63f7abee20ab93c68f2</td>\n",
       "      <td>summer</td>\n",
       "      <td>2020-08</td>\n",
       "    </tr>\n",
       "    <tr>\n",
       "      <th>1436</th>\n",
       "      <td>Casual Boho Beach Robes Womens O-Neck Party Su...</td>\n",
       "      <td>Casual Boho Beach Dresses Womens O-Neck Party ...</td>\n",
       "      <td>8.00</td>\n",
       "      <td>7</td>\n",
       "      <td>EUR</td>\n",
       "      <td>100</td>\n",
       "      <td>1</td>\n",
       "      <td>3.00</td>\n",
       "      <td>11</td>\n",
       "      <td>3.0</td>\n",
       "      <td>...</td>\n",
       "      <td>5768</td>\n",
       "      <td>4.484397</td>\n",
       "      <td>58ff6866e17bc0302f540b50</td>\n",
       "      <td>0</td>\n",
       "      <td>NaN</td>\n",
       "      <td>https://www.wish.com/c/5ebf9b2a6e0bd84bbf5edb18</td>\n",
       "      <td>https://contestimg.wish.com/api/webimage/5ebf9...</td>\n",
       "      <td>5ebf9b2a6e0bd84bbf5edb18</td>\n",
       "      <td>summer</td>\n",
       "      <td>2020-08</td>\n",
       "    </tr>\n",
       "    <tr>\n",
       "      <th>1444</th>\n",
       "      <td>2019 Mode féminine Hot Summer Fashion Flare Sl...</td>\n",
       "      <td>2019 Women's Fashion Hot Summer Fashion Flare ...</td>\n",
       "      <td>11.00</td>\n",
       "      <td>10</td>\n",
       "      <td>EUR</td>\n",
       "      <td>100</td>\n",
       "      <td>0</td>\n",
       "      <td>3.96</td>\n",
       "      <td>98</td>\n",
       "      <td>46.0</td>\n",
       "      <td>...</td>\n",
       "      <td>5070</td>\n",
       "      <td>4.276726</td>\n",
       "      <td>5ae2d62f2c49564f1df9bbd1</td>\n",
       "      <td>0</td>\n",
       "      <td>NaN</td>\n",
       "      <td>https://www.wish.com/c/5cbdabea787e5828c3059a6c</td>\n",
       "      <td>https://contestimg.wish.com/api/webimage/5cbda...</td>\n",
       "      <td>5cbdabea787e5828c3059a6c</td>\n",
       "      <td>summer</td>\n",
       "      <td>2020-08</td>\n",
       "    </tr>\n",
       "    <tr>\n",
       "      <th>1479</th>\n",
       "      <td>Mode d'été femme papillon réservoir gilet sans...</td>\n",
       "      <td>Summer fashion female butterfly tank vest slee...</td>\n",
       "      <td>7.00</td>\n",
       "      <td>33</td>\n",
       "      <td>EUR</td>\n",
       "      <td>50</td>\n",
       "      <td>0</td>\n",
       "      <td>3.00</td>\n",
       "      <td>2</td>\n",
       "      <td>0.0</td>\n",
       "      <td>...</td>\n",
       "      <td>25222</td>\n",
       "      <td>4.001546</td>\n",
       "      <td>566a47bfe9fa8a31b3ef5141</td>\n",
       "      <td>0</td>\n",
       "      <td>NaN</td>\n",
       "      <td>https://www.wish.com/c/5eb4dd169263020a42be1a88</td>\n",
       "      <td>https://contestimg.wish.com/api/webimage/5eb4d...</td>\n",
       "      <td>5eb4dd169263020a42be1a88</td>\n",
       "      <td>summer</td>\n",
       "      <td>2020-08</td>\n",
       "    </tr>\n",
       "    <tr>\n",
       "      <th>1481</th>\n",
       "      <td>Mode féminine été bretelles spaghetti imprimé ...</td>\n",
       "      <td>Women's Summer Fashion Spaghetti Strap Floral ...</td>\n",
       "      <td>8.00</td>\n",
       "      <td>68</td>\n",
       "      <td>EUR</td>\n",
       "      <td>8</td>\n",
       "      <td>0</td>\n",
       "      <td>5.00</td>\n",
       "      <td>0</td>\n",
       "      <td>NaN</td>\n",
       "      <td>...</td>\n",
       "      <td>626</td>\n",
       "      <td>3.916933</td>\n",
       "      <td>5d3aa36072b0c915fe6b8fbd</td>\n",
       "      <td>0</td>\n",
       "      <td>NaN</td>\n",
       "      <td>https://www.wish.com/c/5eb2200b989caa081980b812</td>\n",
       "      <td>https://contestimg.wish.com/api/webimage/5eb22...</td>\n",
       "      <td>5eb2200b989caa081980b812</td>\n",
       "      <td>summer</td>\n",
       "      <td>2020-08</td>\n",
       "    </tr>\n",
       "    <tr>\n",
       "      <th>1491</th>\n",
       "      <td>Costume de sport cool pour hommes d'été Vêteme...</td>\n",
       "      <td>Summer mens cool sport suit Sports Wear Casual...</td>\n",
       "      <td>11.00</td>\n",
       "      <td>168</td>\n",
       "      <td>EUR</td>\n",
       "      <td>10</td>\n",
       "      <td>0</td>\n",
       "      <td>3.33</td>\n",
       "      <td>3</td>\n",
       "      <td>0.0</td>\n",
       "      <td>...</td>\n",
       "      <td>47</td>\n",
       "      <td>3.914894</td>\n",
       "      <td>5e71bc2ff2bef60050bd3a86</td>\n",
       "      <td>0</td>\n",
       "      <td>NaN</td>\n",
       "      <td>https://www.wish.com/c/5e9dad8cbc19c300417e1733</td>\n",
       "      <td>https://contestimg.wish.com/api/webimage/5e9da...</td>\n",
       "      <td>5e9dad8cbc19c300417e1733</td>\n",
       "      <td>summer</td>\n",
       "      <td>2020-08</td>\n",
       "    </tr>\n",
       "    <tr>\n",
       "      <th>1512</th>\n",
       "      <td>Mode féminine sans manches asymétrique Hippie ...</td>\n",
       "      <td>Women's Fashion Sleeveless Asymmetric Hippie S...</td>\n",
       "      <td>5.84</td>\n",
       "      <td>5</td>\n",
       "      <td>EUR</td>\n",
       "      <td>100</td>\n",
       "      <td>0</td>\n",
       "      <td>4.04</td>\n",
       "      <td>24</td>\n",
       "      <td>12.0</td>\n",
       "      <td>...</td>\n",
       "      <td>9470</td>\n",
       "      <td>3.956811</td>\n",
       "      <td>5952a218e81e8a4c30b5bbbc</td>\n",
       "      <td>0</td>\n",
       "      <td>NaN</td>\n",
       "      <td>https://www.wish.com/c/5eb10d32f12bf74120b0fd1e</td>\n",
       "      <td>https://contestimg.wish.com/api/webimage/5eb10...</td>\n",
       "      <td>5eb10d32f12bf74120b0fd1e</td>\n",
       "      <td>summer</td>\n",
       "      <td>2020-08</td>\n",
       "    </tr>\n",
       "    <tr>\n",
       "      <th>1553</th>\n",
       "      <td>Chemisiers sans manches d'été pour femmes Casu...</td>\n",
       "      <td>Women's Summer Sleeveless Blouses Casual Sling...</td>\n",
       "      <td>6.00</td>\n",
       "      <td>6</td>\n",
       "      <td>EUR</td>\n",
       "      <td>100</td>\n",
       "      <td>0</td>\n",
       "      <td>3.40</td>\n",
       "      <td>5</td>\n",
       "      <td>2.0</td>\n",
       "      <td>...</td>\n",
       "      <td>112</td>\n",
       "      <td>3.625000</td>\n",
       "      <td>5dc40e313710b91b0f04fcc5</td>\n",
       "      <td>0</td>\n",
       "      <td>NaN</td>\n",
       "      <td>https://www.wish.com/c/5eba05b08c884a0bddd0ad96</td>\n",
       "      <td>https://contestimg.wish.com/api/webimage/5eba0...</td>\n",
       "      <td>5eba05b08c884a0bddd0ad96</td>\n",
       "      <td>summer</td>\n",
       "      <td>2020-08</td>\n",
       "    </tr>\n",
       "  </tbody>\n",
       "</table>\n",
       "<p>34 rows × 43 columns</p>\n",
       "</div>"
      ],
      "text/plain": [
       "                                                  title  \\\n",
       "311   Women's Summer Fashion Spaghetti Strap Dress F...   \n",
       "411   New Women Ladies Fashion Summer Skinny High Wa...   \n",
       "447   Womens Summer Fashion Lip Print 2pc Set Ladies...   \n",
       "505   Plus la taille des femmes de la mode lâche déc...   \n",
       "571   Summer Women Fashion Fashion Robe courte sans ...   \n",
       "684   Femmes d'été Boho Maxi Polka Dot Robe Irréguli...   \n",
       "689   Femmes d'été Mode Shorts de sport double couch...   \n",
       "698         Débardeur en coton sans manches pour femmes   \n",
       "770   Nouvelle mode d'été femmes robe décontractée c...   \n",
       "991   2020 Shorts classiques pour hommes d'été Panta...   \n",
       "997   S-5XL Nouvelle Mode Femmes Tops Blouse Sans Ma...   \n",
       "1003  6 Couleurs Automne Été Dames Casual Lâche Soli...   \n",
       "1050  Débardeur pour femme Débardeur Bandage Plume I...   \n",
       "1074  Femmes d'été Mode Débardeurs Sexy Sans Manches...   \n",
       "1109  Robe à bretelles lâche col en v pour femmes d'...   \n",
       "1138  NOUVELLES femmes manches courtes Baggy Summer ...   \n",
       "1173  Costume de sport cool pour hommes d'été Vêteme...   \n",
       "1229  New Summer Women's New Fashion Sleeveless Polk...   \n",
       "1251  Mini robe de soirée décontractée sans manches ...   \n",
       "1254  2020 Été Sexy Femmes Halter Tops Plage De Nata...   \n",
       "1262  Mode féminine d'été T-shirt à manches courtes ...   \n",
       "1271  2019 été nouvelle mode féminine \"Let It ~\" Bee...   \n",
       "1316  Femmes été décontracté lâche couleur unie salo...   \n",
       "1331  Femmes D'été Nouvelle Mode Shorts De Sport Cou...   \n",
       "1346  Nouvelle mode d'été femmes robe décontractée c...   \n",
       "1387  Mode d'été femme papillon réservoir gilet sans...   \n",
       "1433  Robe de plage à manches courtes Femmes Robe d'...   \n",
       "1436  Casual Boho Beach Robes Womens O-Neck Party Su...   \n",
       "1444  2019 Mode féminine Hot Summer Fashion Flare Sl...   \n",
       "1479  Mode d'été femme papillon réservoir gilet sans...   \n",
       "1481  Mode féminine été bretelles spaghetti imprimé ...   \n",
       "1491  Costume de sport cool pour hommes d'été Vêteme...   \n",
       "1512  Mode féminine sans manches asymétrique Hippie ...   \n",
       "1553  Chemisiers sans manches d'été pour femmes Casu...   \n",
       "\n",
       "                                             title_orig  price  retail_price  \\\n",
       "311   Women's Summer Fashion Spaghetti Strap Dress F...   8.00             7   \n",
       "411   New Women Ladies Fashion Summer Skinny High Wa...  14.00            12   \n",
       "447   Womens Summer Fashion Lip Print 2pc Set Ladies...   5.00            51   \n",
       "505   Plus Size Women's Fashion Loose Casual sleevel...   5.83             5   \n",
       "571   Summer Women Fashion Short Dress Sleeveless Wa...   8.00            51   \n",
       "684   Summer Women Boho Maxi Polka Dot Dress Irregul...   6.00             6   \n",
       "689   Summer Women Fashion Double-Layer Sports Short...   3.76             7   \n",
       "698   Women's Summer Sleeveless Tank Cotton Vest Pri...   6.00             7   \n",
       "770   New Fashion Summer Women Casual Dress Round Ne...   2.00             9   \n",
       "991   2020 Summer Men's Classic Shorts Multi-pocket ...   7.00            17   \n",
       "997   S-5XL New Fashion Women Tops Blouse Sleeveless...   4.83            51   \n",
       "1003  6 Colors Autumn Summer Ladies Casual Loose Sol...   9.00             8   \n",
       "1050  Women Tops Tank Bandage Feather Print Sleevele...   3.00             3   \n",
       "1074  Women Summer Fashion Tank Tops Sexy Sleeveless...   2.00             2   \n",
       "1109  Summer Women's Loose V-neck Sling Dress Sleeve...   7.00            26   \n",
       "1138  NEW Womens Short Sleeve Baggy Summer Beach Mid...  11.00            84   \n",
       "1173  Summer mens cool sport suit Sports Wear Casual...  16.00            14   \n",
       "1229  New Summer Women's New Fashion Sleeveless Polk...   3.68             4   \n",
       "1251  Sexy Women's Summer Casual Sleeveless Evening ...   2.89             7   \n",
       "1254  2020 Summer Sexy Women Halter Tops Beach Swimm...   7.00             6   \n",
       "1262  Summer Women's Fashion Short Sleeve T Shirt La...   1.72             2   \n",
       "1271  2019 Summer New Women Fashion “ Let It ~“ Bee ...  11.00            10   \n",
       "1316  Women Summer Casual Loose Solid Color Vintage ...  11.00            11   \n",
       "1331  Women's Summer New Fashion Sports Shorts Solid...   7.00             6   \n",
       "1346  New Fashion Summer Women Casual Dress Round Ne...   1.68             2   \n",
       "1387  Summer fashion female butterfly tank vest slee...   6.00            33   \n",
       "1433  Short Sleeve Beach Dress Women Summer Print V ...   8.00            10   \n",
       "1436  Casual Boho Beach Dresses Womens O-Neck Party ...   8.00             7   \n",
       "1444  2019 Women's Fashion Hot Summer Fashion Flare ...  11.00            10   \n",
       "1479  Summer fashion female butterfly tank vest slee...   7.00            33   \n",
       "1481  Women's Summer Fashion Spaghetti Strap Floral ...   8.00            68   \n",
       "1491  Summer mens cool sport suit Sports Wear Casual...  11.00           168   \n",
       "1512  Women's Fashion Sleeveless Asymmetric Hippie S...   5.84             5   \n",
       "1553  Women's Summer Sleeveless Blouses Casual Sling...   6.00             6   \n",
       "\n",
       "     currency_buyer  units_sold  uses_ad_boosts  rating  rating_count  \\\n",
       "311             EUR          50               0    3.88             8   \n",
       "411             EUR        5000               1    4.06           643   \n",
       "447             EUR          10               0    5.00             0   \n",
       "505             EUR         100               0    4.36            22   \n",
       "571             EUR         100               0    4.29            31   \n",
       "684             EUR         100               1    3.67            27   \n",
       "689             EUR          50               0    3.50             8   \n",
       "698             EUR          50               0    2.67             3   \n",
       "770             EUR         100               0    3.47            32   \n",
       "991             EUR          10               0    5.00             2   \n",
       "997             EUR          50               1    2.00             1   \n",
       "1003            EUR         100               1    3.18            72   \n",
       "1050            EUR         100               1    4.29            58   \n",
       "1074            EUR        1000               0    4.19            81   \n",
       "1109            EUR         100               0    2.90            10   \n",
       "1138            EUR         100               1    3.61            18   \n",
       "1173            EUR          10               0    3.00             3   \n",
       "1229            EUR         100               0    3.71            42   \n",
       "1251            EUR          50               0    5.00             1   \n",
       "1254            EUR         100               0    3.60            25   \n",
       "1262            EUR         100               1    3.77            30   \n",
       "1271            EUR       10000               1    4.05          1479   \n",
       "1316            EUR        1000               0    2.99           228   \n",
       "1331            EUR          50               0    4.00             4   \n",
       "1346            EUR         100               1    3.67            12   \n",
       "1387            EUR          10               0    2.33             3   \n",
       "1433            EUR          50               0    5.00             2   \n",
       "1436            EUR         100               1    3.00            11   \n",
       "1444            EUR         100               0    3.96            98   \n",
       "1479            EUR          50               0    3.00             2   \n",
       "1481            EUR           8               0    5.00             0   \n",
       "1491            EUR          10               0    3.33             3   \n",
       "1512            EUR         100               0    4.04            24   \n",
       "1553            EUR         100               0    3.40             5   \n",
       "\n",
       "      rating_five_count  ...  merchant_rating_count  merchant_rating  \\\n",
       "311                 5.0  ...                    334         3.736527   \n",
       "411               365.0  ...                  80093         4.006692   \n",
       "447                 NaN  ...                    295         3.989831   \n",
       "505                13.0  ...                  17471         3.952836   \n",
       "571                19.0  ...                   5846         3.832535   \n",
       "684                 9.0  ...                   4705         4.040595   \n",
       "689                 4.0  ...                   3730         3.880429   \n",
       "698                 1.0  ...                   1374         4.058952   \n",
       "770                11.0  ...                   4856         4.167628   \n",
       "991                 2.0  ...                     46         3.608696   \n",
       "997                 0.0  ...                     57         3.824561   \n",
       "1003               17.0  ...                    288         3.729167   \n",
       "1050               36.0  ...                   1050         3.883810   \n",
       "1074               50.0  ...                 126370         4.146957   \n",
       "1109                4.0  ...                     32         3.187500   \n",
       "1138                6.0  ...                    435         3.855172   \n",
       "1173                0.0  ...                     31         3.548387   \n",
       "1229               18.0  ...                 105015         3.789601   \n",
       "1251                1.0  ...                     30         3.733333   \n",
       "1254               10.0  ...                    483         4.155280   \n",
       "1262               15.0  ...                  32168         3.884544   \n",
       "1271              754.0  ...                   5816         3.936382   \n",
       "1316               59.0  ...                   5264         4.032865   \n",
       "1331                3.0  ...                     34         4.352941   \n",
       "1346                6.0  ...                   1047         3.956065   \n",
       "1387                1.0  ...                  32394         3.924677   \n",
       "1433                2.0  ...                    127         3.874016   \n",
       "1436                3.0  ...                   5768         4.484397   \n",
       "1444               46.0  ...                   5070         4.276726   \n",
       "1479                0.0  ...                  25222         4.001546   \n",
       "1481                NaN  ...                    626         3.916933   \n",
       "1491                0.0  ...                     47         3.914894   \n",
       "1512               12.0  ...                   9470         3.956811   \n",
       "1553                2.0  ...                    112         3.625000   \n",
       "\n",
       "                   merchant_id  merchant_has_profile_picture  \\\n",
       "311   5dda40561fead208515f98e2                             0   \n",
       "411   583138b06339b410ab9663ec                             0   \n",
       "447   5d464a1ffdf7bc44ee933c65                             0   \n",
       "505   5aab3c8ea6bf7a704caec65c                             0   \n",
       "571   5a792e56a71fbf471cf1fc99                             0   \n",
       "684   580c7d0a8b67fa197454a2d1                             0   \n",
       "689   58d8e8ebd929c652b9c04c05                             0   \n",
       "698   5a2fa9ce6ea4a770c66f5599                             0   \n",
       "770   5710ac98b2d43a5925da8dd8                             0   \n",
       "991   5e2ecb9deed5087a7ba2f5f7                             0   \n",
       "997   5e3c5fbfe217d492138970c1                             0   \n",
       "1003  5de0981739adf2a3406bed18                             0   \n",
       "1050  5a698cef028bbd27227d3d12                             0   \n",
       "1074  58ad449708de0c6dc59d9e06                             1   \n",
       "1109  5e54a05c207f9d3e6cee7040                             0   \n",
       "1138  5ac82ff62c49567ffa616535                             0   \n",
       "1173  5e61c817039ce2184a0ed392                             0   \n",
       "1229  5177b0b63feb620dd802a197                             0   \n",
       "1251  5e535f1b397cba44cf1118d8                             0   \n",
       "1254  5d8b2f16ddac8e198fc7c8b7                             0   \n",
       "1262  558c2cdc89d53c4005ea2920                             0   \n",
       "1271  58330d7def56284f7634e5e5                             0   \n",
       "1316  5aa78a0c75599a5bd049d682                             0   \n",
       "1331  5d4bbed57ad242352a46d910                             0   \n",
       "1346  56cd50871e15ff78c21de8a9                             0   \n",
       "1387  57864d704d669274929898fb                             0   \n",
       "1433  5eb51ed929e7865dc268a561                             0   \n",
       "1436  58ff6866e17bc0302f540b50                             0   \n",
       "1444  5ae2d62f2c49564f1df9bbd1                             0   \n",
       "1479  566a47bfe9fa8a31b3ef5141                             0   \n",
       "1481  5d3aa36072b0c915fe6b8fbd                             0   \n",
       "1491  5e71bc2ff2bef60050bd3a86                             0   \n",
       "1512  5952a218e81e8a4c30b5bbbc                             0   \n",
       "1553  5dc40e313710b91b0f04fcc5                             0   \n",
       "\n",
       "                               merchant_profile_picture  \\\n",
       "311                                                 NaN   \n",
       "411                                                 NaN   \n",
       "447                                                 NaN   \n",
       "505                                                 NaN   \n",
       "571                                                 NaN   \n",
       "684                                                 NaN   \n",
       "689                                                 NaN   \n",
       "698                                                 NaN   \n",
       "770                                                 NaN   \n",
       "991                                                 NaN   \n",
       "997                                                 NaN   \n",
       "1003                                                NaN   \n",
       "1050                                                NaN   \n",
       "1074  https://s3-us-west-1.amazonaws.com/sweeper-pro...   \n",
       "1109                                                NaN   \n",
       "1138                                                NaN   \n",
       "1173                                                NaN   \n",
       "1229                                                NaN   \n",
       "1251                                                NaN   \n",
       "1254                                                NaN   \n",
       "1262                                                NaN   \n",
       "1271                                                NaN   \n",
       "1316                                                NaN   \n",
       "1331                                                NaN   \n",
       "1346                                                NaN   \n",
       "1387                                                NaN   \n",
       "1433                                                NaN   \n",
       "1436                                                NaN   \n",
       "1444                                                NaN   \n",
       "1479                                                NaN   \n",
       "1481                                                NaN   \n",
       "1491                                                NaN   \n",
       "1512                                                NaN   \n",
       "1553                                                NaN   \n",
       "\n",
       "                                          product_url  \\\n",
       "311   https://www.wish.com/c/5ea91e4d29b81241e1d43b27   \n",
       "411   https://www.wish.com/c/5c80e8a150c63d28c67b8f14   \n",
       "447   https://www.wish.com/c/5eb90ab5ad67f63678d15ed9   \n",
       "505   https://www.wish.com/c/5e9932cab3eafb25c00ba79f   \n",
       "571   https://www.wish.com/c/5d78eb19cc404c03393c83b5   \n",
       "684   https://www.wish.com/c/5e142dee04c3e579e89576a3   \n",
       "689   https://www.wish.com/c/5ebe625c3cdb6c40b7b9231e   \n",
       "698   https://www.wish.com/c/5eb4f323b67a8d189a8f8380   \n",
       "770   https://www.wish.com/c/5e940265ea3640c9ca0353aa   \n",
       "991   https://www.wish.com/c/5eeef4c4066647a9388a8ac2   \n",
       "997   https://www.wish.com/c/5ee8875404718a4bba2d6348   \n",
       "1003  https://www.wish.com/c/5eaa6d9c8d99eb3ec06709f4   \n",
       "1050  https://www.wish.com/c/5cde56ea6bbbd86b1cbab4a8   \n",
       "1074  https://www.wish.com/c/5e16cb87e6dd7c03be24b28a   \n",
       "1109  https://www.wish.com/c/5e68ffbbe97f758d0698e049   \n",
       "1138  https://www.wish.com/c/5e65d0ea5dc348884032a14e   \n",
       "1173  https://www.wish.com/c/5e9a74e447f7d92c8db8d14b   \n",
       "1229  https://www.wish.com/c/5d82f19340367911da1b9ee7   \n",
       "1251  https://www.wish.com/c/5eba5b1c29367c77b5c0eb35   \n",
       "1254  https://www.wish.com/c/5dea1d9cec016f062ce8aab1   \n",
       "1262  https://www.wish.com/c/5ebe0ead593b960eb1c82d0b   \n",
       "1271  https://www.wish.com/c/5cedf93ac0baab7389f4ccd7   \n",
       "1316  https://www.wish.com/c/5d410e4a11512c51311ad3d3   \n",
       "1331  https://www.wish.com/c/5ebff6d34a4cf4438dba5d80   \n",
       "1346  https://www.wish.com/c/5e93d60ebc5446aedde50c50   \n",
       "1387  https://www.wish.com/c/5eb4dd1bba09581b242c01b0   \n",
       "1433  https://www.wish.com/c/5ec1e63f7abee20ab93c68f2   \n",
       "1436  https://www.wish.com/c/5ebf9b2a6e0bd84bbf5edb18   \n",
       "1444  https://www.wish.com/c/5cbdabea787e5828c3059a6c   \n",
       "1479  https://www.wish.com/c/5eb4dd169263020a42be1a88   \n",
       "1481  https://www.wish.com/c/5eb2200b989caa081980b812   \n",
       "1491  https://www.wish.com/c/5e9dad8cbc19c300417e1733   \n",
       "1512  https://www.wish.com/c/5eb10d32f12bf74120b0fd1e   \n",
       "1553  https://www.wish.com/c/5eba05b08c884a0bddd0ad96   \n",
       "\n",
       "                                        product_picture  \\\n",
       "311   https://contestimg.wish.com/api/webimage/5ea91...   \n",
       "411   https://contestimg.wish.com/api/webimage/5c80e...   \n",
       "447   https://contestimg.wish.com/api/webimage/5eb90...   \n",
       "505   https://contestimg.wish.com/api/webimage/5e993...   \n",
       "571   https://contestimg.wish.com/api/webimage/5d78e...   \n",
       "684   https://contestimg.wish.com/api/webimage/5e142...   \n",
       "689   https://contestimg.wish.com/api/webimage/5ebe6...   \n",
       "698   https://contestimg.wish.com/api/webimage/5eb4f...   \n",
       "770   https://contestimg.wish.com/api/webimage/5e940...   \n",
       "991   https://contestimg.wish.com/api/webimage/5eeef...   \n",
       "997   https://contestimg.wish.com/api/webimage/5ee88...   \n",
       "1003  https://contestimg.wish.com/api/webimage/5eaa6...   \n",
       "1050  https://contestimg.wish.com/api/webimage/5cde5...   \n",
       "1074  https://contestimg.wish.com/api/webimage/5e16c...   \n",
       "1109  https://contestimg.wish.com/api/webimage/5e68f...   \n",
       "1138  https://contestimg.wish.com/api/webimage/5e65d...   \n",
       "1173  https://contestimg.wish.com/api/webimage/5e9a7...   \n",
       "1229  https://contestimg.wish.com/api/webimage/5d82f...   \n",
       "1251  https://contestimg.wish.com/api/webimage/5eba5...   \n",
       "1254  https://contestimg.wish.com/api/webimage/5dea1...   \n",
       "1262  https://contestimg.wish.com/api/webimage/5ebe0...   \n",
       "1271  https://contestimg.wish.com/api/webimage/5cedf...   \n",
       "1316  https://contestimg.wish.com/api/webimage/5d410...   \n",
       "1331  https://contestimg.wish.com/api/webimage/5ebff...   \n",
       "1346  https://contestimg.wish.com/api/webimage/5e93d...   \n",
       "1387  https://contestimg.wish.com/api/webimage/5eb4d...   \n",
       "1433  https://contestimg.wish.com/api/webimage/5ec1e...   \n",
       "1436  https://contestimg.wish.com/api/webimage/5ebf9...   \n",
       "1444  https://contestimg.wish.com/api/webimage/5cbda...   \n",
       "1479  https://contestimg.wish.com/api/webimage/5eb4d...   \n",
       "1481  https://contestimg.wish.com/api/webimage/5eb22...   \n",
       "1491  https://contestimg.wish.com/api/webimage/5e9da...   \n",
       "1512  https://contestimg.wish.com/api/webimage/5eb10...   \n",
       "1553  https://contestimg.wish.com/api/webimage/5eba0...   \n",
       "\n",
       "                    product_id   theme crawl_month  \n",
       "311   5ea91e4d29b81241e1d43b27  summer     2020-08  \n",
       "411   5c80e8a150c63d28c67b8f14  summer     2020-08  \n",
       "447   5eb90ab5ad67f63678d15ed9  summer     2020-08  \n",
       "505   5e9932cab3eafb25c00ba79f  summer     2020-08  \n",
       "571   5d78eb19cc404c03393c83b5  summer     2020-08  \n",
       "684   5e142dee04c3e579e89576a3  summer     2020-08  \n",
       "689   5ebe625c3cdb6c40b7b9231e  summer     2020-08  \n",
       "698   5eb4f323b67a8d189a8f8380  summer     2020-08  \n",
       "770   5e940265ea3640c9ca0353aa  summer     2020-08  \n",
       "991   5eeef4c4066647a9388a8ac2  summer     2020-08  \n",
       "997   5ee8875404718a4bba2d6348  summer     2020-08  \n",
       "1003  5eaa6d9c8d99eb3ec06709f4  summer     2020-08  \n",
       "1050  5cde56ea6bbbd86b1cbab4a8  summer     2020-08  \n",
       "1074  5e16cb87e6dd7c03be24b28a  summer     2020-08  \n",
       "1109  5e68ffbbe97f758d0698e049  summer     2020-08  \n",
       "1138  5e65d0ea5dc348884032a14e  summer     2020-08  \n",
       "1173  5e9a74e447f7d92c8db8d14b  summer     2020-08  \n",
       "1229  5d82f19340367911da1b9ee7  summer     2020-08  \n",
       "1251  5eba5b1c29367c77b5c0eb35  summer     2020-08  \n",
       "1254  5dea1d9cec016f062ce8aab1  summer     2020-08  \n",
       "1262  5ebe0ead593b960eb1c82d0b  summer     2020-08  \n",
       "1271  5cedf93ac0baab7389f4ccd7  summer     2020-08  \n",
       "1316  5d410e4a11512c51311ad3d3  summer     2020-08  \n",
       "1331  5ebff6d34a4cf4438dba5d80  summer     2020-08  \n",
       "1346  5e93d60ebc5446aedde50c50  summer     2020-08  \n",
       "1387  5eb4dd1bba09581b242c01b0  summer     2020-08  \n",
       "1433  5ec1e63f7abee20ab93c68f2  summer     2020-08  \n",
       "1436  5ebf9b2a6e0bd84bbf5edb18  summer     2020-08  \n",
       "1444  5cbdabea787e5828c3059a6c  summer     2020-08  \n",
       "1479  5eb4dd169263020a42be1a88  summer     2020-08  \n",
       "1481  5eb2200b989caa081980b812  summer     2020-08  \n",
       "1491  5e9dad8cbc19c300417e1733  summer     2020-08  \n",
       "1512  5eb10d32f12bf74120b0fd1e  summer     2020-08  \n",
       "1553  5eba05b08c884a0bddd0ad96  summer     2020-08  \n",
       "\n",
       "[34 rows x 43 columns]"
      ]
     },
     "execution_count": 6,
     "metadata": {},
     "output_type": "execute_result"
    }
   ],
   "source": [
    "dupe"
   ]
  },
  {
   "cell_type": "code",
   "execution_count": 7,
   "id": "9276962f",
   "metadata": {},
   "outputs": [],
   "source": [
    "df.drop_duplicates(inplace=True)"
   ]
  },
  {
   "cell_type": "code",
   "execution_count": 8,
   "id": "7a8d3b7e",
   "metadata": {},
   "outputs": [
    {
     "data": {
      "text/plain": [
       "True"
      ]
     },
     "execution_count": 8,
     "metadata": {},
     "output_type": "execute_result"
    }
   ],
   "source": [
    "df.isnull().values.any()"
   ]
  },
  {
   "cell_type": "code",
   "execution_count": 9,
   "id": "eb89bfd4",
   "metadata": {
    "scrolled": true
   },
   "outputs": [
    {
     "data": {
      "text/plain": [
       "title                              0\n",
       "title_orig                         0\n",
       "price                              0\n",
       "retail_price                       0\n",
       "currency_buyer                     0\n",
       "units_sold                         0\n",
       "uses_ad_boosts                     0\n",
       "rating                             0\n",
       "rating_count                       0\n",
       "rating_five_count                 43\n",
       "rating_four_count                 43\n",
       "rating_three_count                43\n",
       "rating_two_count                  43\n",
       "rating_one_count                  43\n",
       "badges_count                       0\n",
       "badge_local_product                0\n",
       "badge_product_quality              0\n",
       "badge_fast_shipping                0\n",
       "tags                               0\n",
       "product_color                     41\n",
       "product_variation_size_id         14\n",
       "product_variation_inventory        0\n",
       "shipping_option_name               0\n",
       "shipping_option_price              0\n",
       "shipping_is_express                0\n",
       "countries_shipped_to               0\n",
       "inventory_total                    0\n",
       "has_urgency_banner              1071\n",
       "urgency_text                    1071\n",
       "origin_country                    16\n",
       "merchant_title                     0\n",
       "merchant_name                      3\n",
       "merchant_info_subtitle             1\n",
       "merchant_rating_count              0\n",
       "merchant_rating                    0\n",
       "merchant_id                        0\n",
       "merchant_has_profile_picture       0\n",
       "merchant_profile_picture        1314\n",
       "product_url                        0\n",
       "product_picture                    0\n",
       "product_id                         0\n",
       "theme                              0\n",
       "crawl_month                        0\n",
       "dtype: int64"
      ]
     },
     "execution_count": 9,
     "metadata": {},
     "output_type": "execute_result"
    }
   ],
   "source": [
    "df.isnull().sum()"
   ]
  },
  {
   "cell_type": "code",
   "execution_count": 10,
   "id": "e41a9140",
   "metadata": {},
   "outputs": [],
   "source": [
    "df['has_urgency_banner'].fillna(0, inplace=True)"
   ]
  },
  {
   "cell_type": "code",
   "execution_count": 11,
   "id": "06d8532e",
   "metadata": {},
   "outputs": [],
   "source": [
    "del df['urgency_text'] "
   ]
  },
  {
   "cell_type": "code",
   "execution_count": 12,
   "id": "b659c388",
   "metadata": {},
   "outputs": [],
   "source": [
    "del df['merchant_profile_picture'] "
   ]
  },
  {
   "cell_type": "code",
   "execution_count": 13,
   "id": "39f4c289",
   "metadata": {},
   "outputs": [],
   "source": [
    "del df['product_color'] "
   ]
  },
  {
   "cell_type": "code",
   "execution_count": 14,
   "id": "0aec1d7b",
   "metadata": {},
   "outputs": [],
   "source": [
    "del df['product_variation_size_id']"
   ]
  },
  {
   "cell_type": "code",
   "execution_count": 15,
   "id": "0c0d419a",
   "metadata": {},
   "outputs": [],
   "source": [
    "del df['origin_country']"
   ]
  },
  {
   "cell_type": "code",
   "execution_count": 16,
   "id": "d16eaa46",
   "metadata": {},
   "outputs": [
    {
     "data": {
      "text/plain": [
       "True"
      ]
     },
     "execution_count": 16,
     "metadata": {},
     "output_type": "execute_result"
    }
   ],
   "source": [
    "df.isnull().values.any()"
   ]
  },
  {
   "cell_type": "code",
   "execution_count": 17,
   "id": "8888b44c",
   "metadata": {
    "scrolled": true
   },
   "outputs": [
    {
     "data": {
      "text/plain": [
       "0    868\n",
       "1    671\n",
       "Name: uses_ad_boosts, dtype: int64"
      ]
     },
     "execution_count": 17,
     "metadata": {},
     "output_type": "execute_result"
    }
   ],
   "source": [
    "df['uses_ad_boosts'].value_counts()"
   ]
  },
  {
   "cell_type": "code",
   "execution_count": 18,
   "id": "7ce80d43",
   "metadata": {
    "scrolled": true
   },
   "outputs": [
    {
     "data": {
      "text/plain": [
       "<AxesSubplot:>"
      ]
     },
     "execution_count": 18,
     "metadata": {},
     "output_type": "execute_result"
    },
    {
     "data": {
      "image/png": "[encoded data removed]",
      "text/plain": [
       "<Figure size 432x288 with 1 Axes>"
      ]
     },
     "metadata": {
      "needs_background": "light"
     },
     "output_type": "display_data"
    }
   ],
   "source": [
    "df['uses_ad_boosts'].value_counts().plot(kind='bar') "
   ]
  },
  {
   "cell_type": "code",
   "execution_count": 19,
   "id": "d4539a1c",
   "metadata": {
    "scrolled": true
   },
   "outputs": [
    {
     "data": {
      "text/plain": [
       "0.4359974009096816"
      ]
     },
     "execution_count": 19,
     "metadata": {},
     "output_type": "execute_result"
    }
   ],
   "source": [
    "671/1539"
   ]
  },
  {
   "cell_type": "code",
   "execution_count": 20,
   "id": "9c494a0f",
   "metadata": {},
   "outputs": [],
   "source": [
    "from scipy.stats import shapiro "
   ]
  },
  {
   "cell_type": "code",
   "execution_count": 21,
   "id": "741e09b5",
   "metadata": {},
   "outputs": [
    {
     "data": {
      "text/plain": [
       "ShapiroResult(statistic=0.464181125164032, pvalue=0.0)"
      ]
     },
     "execution_count": 21,
     "metadata": {},
     "output_type": "execute_result"
    }
   ],
   "source": [
    "shapiro(df['units_sold'])"
   ]
  },
  {
   "cell_type": "code",
   "execution_count": 22,
   "id": "a2d94446",
   "metadata": {},
   "outputs": [],
   "source": [
    "a = df[df['uses_ad_boosts']==0]\n",
    "b = df[df['uses_ad_boosts']==1]"
   ]
  },
  {
   "cell_type": "code",
   "execution_count": 23,
   "id": "0c23678b",
   "metadata": {
    "scrolled": false
   },
   "outputs": [
    {
     "data": {
      "text/html": [
       "<div>\n",
       "<style scoped>\n",
       "    .dataframe tbody tr th:only-of-type {\n",
       "        vertical-align: middle;\n",
       "    }\n",
       "\n",
       "    .dataframe tbody tr th {\n",
       "        vertical-align: top;\n",
       "    }\n",
       "\n",
       "    .dataframe thead th {\n",
       "        text-align: right;\n",
       "    }\n",
       "</style>\n",
       "<table border=\"1\" class=\"dataframe\">\n",
       "  <thead>\n",
       "    <tr style=\"text-align: right;\">\n",
       "      <th></th>\n",
       "      <th>units_sold</th>\n",
       "    </tr>\n",
       "  </thead>\n",
       "  <tbody>\n",
       "    <tr>\n",
       "      <th>0</th>\n",
       "      <td>100</td>\n",
       "    </tr>\n",
       "    <tr>\n",
       "      <th>2</th>\n",
       "      <td>100</td>\n",
       "    </tr>\n",
       "    <tr>\n",
       "      <th>5</th>\n",
       "      <td>10</td>\n",
       "    </tr>\n",
       "    <tr>\n",
       "      <th>6</th>\n",
       "      <td>50000</td>\n",
       "    </tr>\n",
       "    <tr>\n",
       "      <th>7</th>\n",
       "      <td>1000</td>\n",
       "    </tr>\n",
       "    <tr>\n",
       "      <th>...</th>\n",
       "      <td>...</td>\n",
       "    </tr>\n",
       "    <tr>\n",
       "      <th>1562</th>\n",
       "      <td>100</td>\n",
       "    </tr>\n",
       "    <tr>\n",
       "      <th>1563</th>\n",
       "      <td>100</td>\n",
       "    </tr>\n",
       "    <tr>\n",
       "      <th>1564</th>\n",
       "      <td>1000</td>\n",
       "    </tr>\n",
       "    <tr>\n",
       "      <th>1570</th>\n",
       "      <td>100</td>\n",
       "    </tr>\n",
       "    <tr>\n",
       "      <th>1571</th>\n",
       "      <td>100</td>\n",
       "    </tr>\n",
       "  </tbody>\n",
       "</table>\n",
       "<p>868 rows × 1 columns</p>\n",
       "</div>"
      ],
      "text/plain": [
       "      units_sold\n",
       "0            100\n",
       "2            100\n",
       "5             10\n",
       "6          50000\n",
       "7           1000\n",
       "...          ...\n",
       "1562         100\n",
       "1563         100\n",
       "1564        1000\n",
       "1570         100\n",
       "1571         100\n",
       "\n",
       "[868 rows x 1 columns]"
      ]
     },
     "execution_count": 23,
     "metadata": {},
     "output_type": "execute_result"
    }
   ],
   "source": [
    "a.iloc[:,[5]]"
   ]
  },
  {
   "cell_type": "code",
   "execution_count": 24,
   "id": "9c8c0e6d",
   "metadata": {
    "scrolled": false
   },
   "outputs": [
    {
     "data": {
      "text/html": [
       "<div>\n",
       "<style scoped>\n",
       "    .dataframe tbody tr th:only-of-type {\n",
       "        vertical-align: middle;\n",
       "    }\n",
       "\n",
       "    .dataframe tbody tr th {\n",
       "        vertical-align: top;\n",
       "    }\n",
       "\n",
       "    .dataframe thead th {\n",
       "        text-align: right;\n",
       "    }\n",
       "</style>\n",
       "<table border=\"1\" class=\"dataframe\">\n",
       "  <thead>\n",
       "    <tr style=\"text-align: right;\">\n",
       "      <th></th>\n",
       "      <th>units_sold</th>\n",
       "    </tr>\n",
       "  </thead>\n",
       "  <tbody>\n",
       "    <tr>\n",
       "      <th>1</th>\n",
       "      <td>20000</td>\n",
       "    </tr>\n",
       "    <tr>\n",
       "      <th>3</th>\n",
       "      <td>5000</td>\n",
       "    </tr>\n",
       "    <tr>\n",
       "      <th>4</th>\n",
       "      <td>100</td>\n",
       "    </tr>\n",
       "    <tr>\n",
       "      <th>8</th>\n",
       "      <td>100</td>\n",
       "    </tr>\n",
       "    <tr>\n",
       "      <th>11</th>\n",
       "      <td>100</td>\n",
       "    </tr>\n",
       "    <tr>\n",
       "      <th>...</th>\n",
       "      <td>...</td>\n",
       "    </tr>\n",
       "    <tr>\n",
       "      <th>1566</th>\n",
       "      <td>100</td>\n",
       "    </tr>\n",
       "    <tr>\n",
       "      <th>1567</th>\n",
       "      <td>20000</td>\n",
       "    </tr>\n",
       "    <tr>\n",
       "      <th>1568</th>\n",
       "      <td>10000</td>\n",
       "    </tr>\n",
       "    <tr>\n",
       "      <th>1569</th>\n",
       "      <td>100</td>\n",
       "    </tr>\n",
       "    <tr>\n",
       "      <th>1572</th>\n",
       "      <td>100</td>\n",
       "    </tr>\n",
       "  </tbody>\n",
       "</table>\n",
       "<p>671 rows × 1 columns</p>\n",
       "</div>"
      ],
      "text/plain": [
       "      units_sold\n",
       "1          20000\n",
       "3           5000\n",
       "4            100\n",
       "8            100\n",
       "11           100\n",
       "...          ...\n",
       "1566         100\n",
       "1567       20000\n",
       "1568       10000\n",
       "1569         100\n",
       "1572         100\n",
       "\n",
       "[671 rows x 1 columns]"
      ]
     },
     "execution_count": 24,
     "metadata": {},
     "output_type": "execute_result"
    }
   ],
   "source": [
    "b.iloc[:,[5]]"
   ]
  },
  {
   "cell_type": "code",
   "execution_count": 25,
   "id": "5fb55921",
   "metadata": {},
   "outputs": [],
   "source": [
    "from scipy.stats import mannwhitneyu"
   ]
  },
  {
   "cell_type": "code",
   "execution_count": 26,
   "id": "82cbe1e1",
   "metadata": {
    "scrolled": true
   },
   "outputs": [
    {
     "data": {
      "text/plain": [
       "MannwhitneyuResult(statistic=289311.0, pvalue=0.4104338130564246)"
      ]
     },
     "execution_count": 26,
     "metadata": {},
     "output_type": "execute_result"
    }
   ],
   "source": [
    "mannwhitneyu(df['units_sold'][df['uses_ad_boosts'] == 0],\n",
    "                df['units_sold'][df['uses_ad_boosts'] == 1])"
   ]
  },
  {
   "cell_type": "code",
   "execution_count": 27,
   "id": "14452da3",
   "metadata": {},
   "outputs": [],
   "source": [
    "from scipy.stats import ttest_ind"
   ]
  },
  {
   "cell_type": "code",
   "execution_count": 28,
   "id": "59fbb5ea",
   "metadata": {},
   "outputs": [
    {
     "data": {
      "text/plain": [
       "Ttest_indResult(statistic=0.7918771666716706, pvalue=0.4285544944650025)"
      ]
     },
     "execution_count": 28,
     "metadata": {},
     "output_type": "execute_result"
    }
   ],
   "source": [
    "ttest_ind(df['units_sold'][df['uses_ad_boosts'] == 0],\n",
    "                df['units_sold'][df['uses_ad_boosts'] == 1])"
   ]
  },
  {
   "cell_type": "code",
   "execution_count": 29,
   "id": "f27601c4",
   "metadata": {},
   "outputs": [],
   "source": [
    "from scipy.stats import kstest"
   ]
  },
  {
   "cell_type": "code",
   "execution_count": 30,
   "id": "95090644",
   "metadata": {},
   "outputs": [
    {
     "data": {
      "text/plain": [
       "KstestResult(statistic=0.9532082826067265, pvalue=0.0)"
      ]
     },
     "execution_count": 30,
     "metadata": {},
     "output_type": "execute_result"
    }
   ],
   "source": [
    "kstest(df[\"price\"], 'norm')"
   ]
  },
  {
   "cell_type": "code",
   "execution_count": 31,
   "id": "4047c12d",
   "metadata": {},
   "outputs": [
    {
     "data": {
      "text/plain": [
       "KstestResult(statistic=0.9829097803506945, pvalue=0.0)"
      ]
     },
     "execution_count": 31,
     "metadata": {},
     "output_type": "execute_result"
    }
   ],
   "source": [
    "kstest(df[\"rating\"], 'norm')"
   ]
  },
  {
   "cell_type": "code",
   "execution_count": 32,
   "id": "5def6a98",
   "metadata": {
    "scrolled": true
   },
   "outputs": [
    {
     "data": {
      "text/plain": [
       "8.356452241715388"
      ]
     },
     "execution_count": 32,
     "metadata": {},
     "output_type": "execute_result"
    }
   ],
   "source": [
    "df['price'].mean()"
   ]
  },
  {
   "cell_type": "code",
   "execution_count": 33,
   "id": "b1c0a70d",
   "metadata": {},
   "outputs": [],
   "source": [
    "a = df[df['price']<=8.35] \n",
    "b = df[df['price']>=8.35] "
   ]
  },
  {
   "cell_type": "code",
   "execution_count": 34,
   "id": "45084b7c",
   "metadata": {
    "scrolled": false
   },
   "outputs": [
    {
     "data": {
      "text/html": [
       "<div>\n",
       "<style scoped>\n",
       "    .dataframe tbody tr th:only-of-type {\n",
       "        vertical-align: middle;\n",
       "    }\n",
       "\n",
       "    .dataframe tbody tr th {\n",
       "        vertical-align: top;\n",
       "    }\n",
       "\n",
       "    .dataframe thead th {\n",
       "        text-align: right;\n",
       "    }\n",
       "</style>\n",
       "<table border=\"1\" class=\"dataframe\">\n",
       "  <thead>\n",
       "    <tr style=\"text-align: right;\">\n",
       "      <th></th>\n",
       "      <th>rating</th>\n",
       "    </tr>\n",
       "  </thead>\n",
       "  <tbody>\n",
       "    <tr>\n",
       "      <th>1</th>\n",
       "      <td>3.45</td>\n",
       "    </tr>\n",
       "    <tr>\n",
       "      <th>2</th>\n",
       "      <td>3.57</td>\n",
       "    </tr>\n",
       "    <tr>\n",
       "      <th>3</th>\n",
       "      <td>4.03</td>\n",
       "    </tr>\n",
       "    <tr>\n",
       "      <th>4</th>\n",
       "      <td>3.10</td>\n",
       "    </tr>\n",
       "    <tr>\n",
       "      <th>5</th>\n",
       "      <td>5.00</td>\n",
       "    </tr>\n",
       "    <tr>\n",
       "      <th>...</th>\n",
       "      <td>...</td>\n",
       "    </tr>\n",
       "    <tr>\n",
       "      <th>1567</th>\n",
       "      <td>4.25</td>\n",
       "    </tr>\n",
       "    <tr>\n",
       "      <th>1568</th>\n",
       "      <td>4.08</td>\n",
       "    </tr>\n",
       "    <tr>\n",
       "      <th>1569</th>\n",
       "      <td>3.07</td>\n",
       "    </tr>\n",
       "    <tr>\n",
       "      <th>1570</th>\n",
       "      <td>3.71</td>\n",
       "    </tr>\n",
       "    <tr>\n",
       "      <th>1572</th>\n",
       "      <td>4.07</td>\n",
       "    </tr>\n",
       "  </tbody>\n",
       "</table>\n",
       "<p>933 rows × 1 columns</p>\n",
       "</div>"
      ],
      "text/plain": [
       "      rating\n",
       "1       3.45\n",
       "2       3.57\n",
       "3       4.03\n",
       "4       3.10\n",
       "5       5.00\n",
       "...      ...\n",
       "1567    4.25\n",
       "1568    4.08\n",
       "1569    3.07\n",
       "1570    3.71\n",
       "1572    4.07\n",
       "\n",
       "[933 rows x 1 columns]"
      ]
     },
     "execution_count": 34,
     "metadata": {},
     "output_type": "execute_result"
    }
   ],
   "source": [
    "a.iloc[:,[7]]"
   ]
  },
  {
   "cell_type": "code",
   "execution_count": 35,
   "id": "a8076c77",
   "metadata": {},
   "outputs": [
    {
     "data": {
      "text/html": [
       "<div>\n",
       "<style scoped>\n",
       "    .dataframe tbody tr th:only-of-type {\n",
       "        vertical-align: middle;\n",
       "    }\n",
       "\n",
       "    .dataframe tbody tr th {\n",
       "        vertical-align: top;\n",
       "    }\n",
       "\n",
       "    .dataframe thead th {\n",
       "        text-align: right;\n",
       "    }\n",
       "</style>\n",
       "<table border=\"1\" class=\"dataframe\">\n",
       "  <thead>\n",
       "    <tr style=\"text-align: right;\">\n",
       "      <th></th>\n",
       "      <th>rating</th>\n",
       "    </tr>\n",
       "  </thead>\n",
       "  <tbody>\n",
       "    <tr>\n",
       "      <th>0</th>\n",
       "      <td>3.76</td>\n",
       "    </tr>\n",
       "    <tr>\n",
       "      <th>7</th>\n",
       "      <td>3.76</td>\n",
       "    </tr>\n",
       "    <tr>\n",
       "      <th>8</th>\n",
       "      <td>3.47</td>\n",
       "    </tr>\n",
       "    <tr>\n",
       "      <th>15</th>\n",
       "      <td>3.92</td>\n",
       "    </tr>\n",
       "    <tr>\n",
       "      <th>16</th>\n",
       "      <td>3.72</td>\n",
       "    </tr>\n",
       "    <tr>\n",
       "      <th>...</th>\n",
       "      <td>...</td>\n",
       "    </tr>\n",
       "    <tr>\n",
       "      <th>1558</th>\n",
       "      <td>4.12</td>\n",
       "    </tr>\n",
       "    <tr>\n",
       "      <th>1559</th>\n",
       "      <td>4.05</td>\n",
       "    </tr>\n",
       "    <tr>\n",
       "      <th>1563</th>\n",
       "      <td>3.51</td>\n",
       "    </tr>\n",
       "    <tr>\n",
       "      <th>1566</th>\n",
       "      <td>3.54</td>\n",
       "    </tr>\n",
       "    <tr>\n",
       "      <th>1571</th>\n",
       "      <td>2.50</td>\n",
       "    </tr>\n",
       "  </tbody>\n",
       "</table>\n",
       "<p>606 rows × 1 columns</p>\n",
       "</div>"
      ],
      "text/plain": [
       "      rating\n",
       "0       3.76\n",
       "7       3.76\n",
       "8       3.47\n",
       "15      3.92\n",
       "16      3.72\n",
       "...      ...\n",
       "1558    4.12\n",
       "1559    4.05\n",
       "1563    3.51\n",
       "1566    3.54\n",
       "1571    2.50\n",
       "\n",
       "[606 rows x 1 columns]"
      ]
     },
     "execution_count": 35,
     "metadata": {},
     "output_type": "execute_result"
    }
   ],
   "source": [
    "b.iloc[:,[7]]"
   ]
  },
  {
   "cell_type": "code",
   "execution_count": 36,
   "id": "bcb86b64",
   "metadata": {
    "scrolled": false
   },
   "outputs": [
    {
     "data": {
      "text/plain": [
       "Ttest_indResult(statistic=1.392317235513609, pvalue=0.16402775394974342)"
      ]
     },
     "execution_count": 36,
     "metadata": {},
     "output_type": "execute_result"
    }
   ],
   "source": [
    "ttest_ind(df['rating'][df['price'] >= 8.35 ], df['rating'][df['price'] <= 8.35 ]) "
   ]
  },
  {
   "cell_type": "code",
   "execution_count": 37,
   "id": "6156997c",
   "metadata": {},
   "outputs": [],
   "source": [
    "from scipy.stats import spearmanr"
   ]
  },
  {
   "cell_type": "code",
   "execution_count": 38,
   "id": "7a96d905",
   "metadata": {
    "scrolled": true
   },
   "outputs": [
    {
     "data": {
      "text/plain": [
       "SpearmanrResult(correlation=0.05900676058363518, pvalue=0.02061419440396427)"
      ]
     },
     "execution_count": 38,
     "metadata": {},
     "output_type": "execute_result"
    }
   ],
   "source": [
    "spearmanr(df['price'],df['rating'])"
   ]
  },
  {
   "cell_type": "code",
   "execution_count": 39,
   "id": "31579cfd",
   "metadata": {},
   "outputs": [],
   "source": [
    "from scipy.stats import pearsonr"
   ]
  },
  {
   "cell_type": "code",
   "execution_count": 40,
   "id": "ac92e036",
   "metadata": {},
   "outputs": [
    {
     "data": {
      "text/plain": [
       "(0.24457446339286687, 2.136173163555255e-22)"
      ]
     },
     "execution_count": 40,
     "metadata": {},
     "output_type": "execute_result"
    }
   ],
   "source": [
    "pearsonr(df['rating'], df['merchant_rating'])"
   ]
  },
  {
   "cell_type": "code",
   "execution_count": 41,
   "id": "addbbfcb",
   "metadata": {
    "scrolled": true
   },
   "outputs": [
    {
     "data": {
      "text/plain": [
       "SpearmanrResult(correlation=0.2610657655954483, pvalue=2.130611444855418e-25)"
      ]
     },
     "execution_count": 41,
     "metadata": {},
     "output_type": "execute_result"
    }
   ],
   "source": [
    "spearmanr(df['rating'], df['merchant_rating'])"
   ]
  },
  {
   "cell_type": "code",
   "execution_count": 42,
   "id": "6c1af0ab",
   "metadata": {},
   "outputs": [
    {
     "data": {
      "text/plain": [
       "0    1391\n",
       "1     135\n",
       "2      11\n",
       "3       2\n",
       "Name: badges_count, dtype: int64"
      ]
     },
     "execution_count": 42,
     "metadata": {},
     "output_type": "execute_result"
    }
   ],
   "source": [
    "df['badges_count'].value_counts()"
   ]
  },
  {
   "cell_type": "code",
   "execution_count": 43,
   "id": "3b724b18",
   "metadata": {},
   "outputs": [
    {
     "data": {
      "text/plain": [
       "<AxesSubplot:>"
      ]
     },
     "execution_count": 43,
     "metadata": {},
     "output_type": "execute_result"
    },
    {
     "data": {
      "image/png": "[encoded data removed]",
      "text/plain": [
       "<Figure size 432x288 with 1 Axes>"
      ]
     },
     "metadata": {
      "needs_background": "light"
     },
     "output_type": "display_data"
    }
   ],
   "source": [
    "df['badges_count'].value_counts().plot(kind='bar') "
   ]
  },
  {
   "cell_type": "code",
   "execution_count": 44,
   "id": "e7815b50",
   "metadata": {},
   "outputs": [],
   "source": [
    "df_none=df[df['badges_count']==0]\n",
    "df_one=df[df['badges_count']==1]\n",
    "df_two=df[df['badges_count']==2]\n",
    "df_three=df[df['badges_count']==3]"
   ]
  },
  {
   "cell_type": "code",
   "execution_count": 45,
   "id": "7d42f062",
   "metadata": {},
   "outputs": [],
   "source": [
    "from scipy.stats import kruskal"
   ]
  },
  {
   "cell_type": "code",
   "execution_count": 46,
   "id": "cc74284a",
   "metadata": {
    "scrolled": false
   },
   "outputs": [
    {
     "data": {
      "text/plain": [
       "KruskalResult(statistic=29.104534985986774, pvalue=2.1289733381272446e-06)"
      ]
     },
     "execution_count": 46,
     "metadata": {},
     "output_type": "execute_result"
    }
   ],
   "source": [
    "kruskal(df_none['units_sold'],df_one['units_sold'],df_two['units_sold'],df_three['units_sold'])"
   ]
  },
  {
   "cell_type": "code",
   "execution_count": 47,
   "id": "95816b4f",
   "metadata": {},
   "outputs": [
    {
     "data": {
      "text/plain": [
       "Ttest_indResult(statistic=-2.566091749404669, pvalue=0.010380013274921818)"
      ]
     },
     "execution_count": 47,
     "metadata": {},
     "output_type": "execute_result"
    }
   ],
   "source": [
    "ttest_ind(df_none['units_sold'],df_one['units_sold'])"
   ]
  },
  {
   "cell_type": "code",
   "execution_count": 48,
   "id": "cb10e3d1",
   "metadata": {},
   "outputs": [
    {
     "data": {
      "text/plain": [
       "MannwhitneyuResult(statistic=69999.0, pvalue=2.482537191241913e-07)"
      ]
     },
     "execution_count": 48,
     "metadata": {},
     "output_type": "execute_result"
    }
   ],
   "source": [
    "mannwhitneyu(df_none['units_sold'],df_one['units_sold'])"
   ]
  },
  {
   "cell_type": "code",
   "execution_count": 51,
   "id": "9c07182a",
   "metadata": {
    "scrolled": false
   },
   "outputs": [
    {
     "data": {
      "text/plain": [
       "(array([1283.,   89.,    0.,    0.,   13.,    0.,    0.,    0.,    0.,\n",
       "           6.]),\n",
       " array([1.00000e+00, 1.00009e+04, 2.00008e+04, 3.00007e+04, 4.00006e+04,\n",
       "        5.00005e+04, 6.00004e+04, 7.00003e+04, 8.00002e+04, 9.00001e+04,\n",
       "        1.00000e+05]),\n",
       " <BarContainer object of 10 artists>)"
      ]
     },
     "execution_count": 51,
     "metadata": {},
     "output_type": "execute_result"
    },
    {
     "data": {
      "image/png": "[encoded data removed]",
      "text/plain": [
       "<Figure size 432x288 with 1 Axes>"
      ]
     },
     "metadata": {
      "needs_background": "light"
     },
     "output_type": "display_data"
    }
   ],
   "source": [
    "plt.hist(df_none['units_sold'])"
   ]
  },
  {
   "cell_type": "code",
   "execution_count": 52,
   "id": "6987ca36",
   "metadata": {},
   "outputs": [
    {
     "data": {
      "text/plain": [
       "(array([93., 25.,  0., 13.,  0.,  0.,  0.,  0.,  0.,  4.]),\n",
       " array([  100.,  5090., 10080., 15070., 20060., 25050., 30040., 35030.,\n",
       "        40020., 45010., 50000.]),\n",
       " <BarContainer object of 10 artists>)"
      ]
     },
     "execution_count": 52,
     "metadata": {},
     "output_type": "execute_result"
    },
    {
     "data": {
      "image/png": "[encoded data removed]",
      "text/plain": [
       "<Figure size 432x288 with 1 Axes>"
      ]
     },
     "metadata": {
      "needs_background": "light"
     },
     "output_type": "display_data"
    }
   ],
   "source": [
    "plt.hist(df_one['units_sold'])"
   ]
  },
  {
   "cell_type": "code",
   "execution_count": 53,
   "id": "1f5144a8",
   "metadata": {
    "scrolled": true
   },
   "outputs": [
    {
     "data": {
      "text/plain": [
       "(array([10.,  0.,  0.,  0.,  0.,  0.,  0.,  0.,  0.,  1.]),\n",
       " array([  100.,  2090.,  4080.,  6070.,  8060., 10050., 12040., 14030.,\n",
       "        16020., 18010., 20000.]),\n",
       " <BarContainer object of 10 artists>)"
      ]
     },
     "execution_count": 53,
     "metadata": {},
     "output_type": "execute_result"
    },
    {
     "data": {
      "image/png": "[encoded data removed]",
      "text/plain": [
       "<Figure size 432x288 with 1 Axes>"
      ]
     },
     "metadata": {
      "needs_background": "light"
     },
     "output_type": "display_data"
    }
   ],
   "source": [
    "plt.hist(df_two['units_sold'])"
   ]
  },
  {
   "cell_type": "code",
   "execution_count": 54,
   "id": "50474cf9",
   "metadata": {},
   "outputs": [
    {
     "data": {
      "text/plain": [
       "(array([1., 0., 0., 0., 0., 0., 0., 0., 0., 1.]),\n",
       " array([ 1000.,  1900.,  2800.,  3700.,  4600.,  5500.,  6400.,  7300.,\n",
       "         8200.,  9100., 10000.]),\n",
       " <BarContainer object of 10 artists>)"
      ]
     },
     "execution_count": 54,
     "metadata": {},
     "output_type": "execute_result"
    },
    {
     "data": {
      "image/png": "[encoded data removed]",
      "text/plain": [
       "<Figure size 432x288 with 1 Axes>"
      ]
     },
     "metadata": {
      "needs_background": "light"
     },
     "output_type": "display_data"
    }
   ],
   "source": [
    "plt.hist(df_three['units_sold'])"
   ]
  },
  {
   "cell_type": "code",
   "execution_count": 55,
   "id": "b7438d66",
   "metadata": {},
   "outputs": [
    {
     "data": {
      "text/plain": [
       "4244.713874910137"
      ]
     },
     "execution_count": 55,
     "metadata": {},
     "output_type": "execute_result"
    }
   ],
   "source": [
    "df_none['units_sold'].mean()"
   ]
  },
  {
   "cell_type": "code",
   "execution_count": 56,
   "id": "e9cbb946",
   "metadata": {},
   "outputs": [
    {
     "data": {
      "text/plain": [
       "6429.62962962963"
      ]
     },
     "execution_count": 56,
     "metadata": {},
     "output_type": "execute_result"
    }
   ],
   "source": [
    "df_one['units_sold'].mean()"
   ]
  },
  {
   "cell_type": "code",
   "execution_count": 57,
   "id": "9d88381d",
   "metadata": {},
   "outputs": [
    {
     "data": {
      "text/plain": [
       "2072.7272727272725"
      ]
     },
     "execution_count": 57,
     "metadata": {},
     "output_type": "execute_result"
    }
   ],
   "source": [
    "df_two['units_sold'].mean()"
   ]
  },
  {
   "cell_type": "code",
   "execution_count": 58,
   "id": "1dfe1603",
   "metadata": {},
   "outputs": [
    {
     "data": {
      "text/plain": [
       "5500.0"
      ]
     },
     "execution_count": 58,
     "metadata": {},
     "output_type": "execute_result"
    }
   ],
   "source": [
    "df_three['units_sold'].mean()"
   ]
  },
  {
   "cell_type": "code",
   "execution_count": 59,
   "id": "31e47870",
   "metadata": {},
   "outputs": [
    {
     "data": {
      "text/plain": [
       "14002.36"
      ]
     },
     "execution_count": 59,
     "metadata": {},
     "output_type": "execute_result"
    }
   ],
   "source": [
    "5500+2072.73+6429.63"
   ]
  },
  {
   "cell_type": "code",
   "execution_count": 60,
   "id": "33d154bf",
   "metadata": {},
   "outputs": [
    {
     "data": {
      "text/plain": [
       "12734.130000000001"
      ]
     },
     "execution_count": 60,
     "metadata": {},
     "output_type": "execute_result"
    }
   ],
   "source": [
    "3*4244.71"
   ]
  },
  {
   "cell_type": "code",
   "execution_count": 61,
   "id": "4b2fa542",
   "metadata": {},
   "outputs": [
    {
     "data": {
      "text/plain": [
       "0.9094274108078922"
      ]
     },
     "execution_count": 61,
     "metadata": {},
     "output_type": "execute_result"
    }
   ],
   "source": [
    "12734.13/14002.36"
   ]
  },
  {
   "cell_type": "code",
   "execution_count": 73,
   "id": "000a2b31",
   "metadata": {
    "scrolled": false
   },
   "outputs": [
    {
     "data": {
      "text/plain": [
       "(array([ 43.,  36.,  49., 232., 172.,  89.,  53., 223.,  24.,  37.,  38.,\n",
       "         23.,  46.,   3.,   7.,  15.,  25.,   3.,   4.,  54.,   4.,   3.,\n",
       "          1.,  23.,   2.,  16.,  16.,   1.,   2.,   9.,   0.,   3.,   7.,\n",
       "         16.,   0.,   1.,  11.,   8.,   6.,  26.,   0.,   1.,   2.,  14.,\n",
       "          1.,   5.,  21.,   3.,   0.,   0.,   8.,   1.,   4.,  11.,   2.,\n",
       "          0.,   3.,   0.,   7.,  12.,   0.,   0.,   0.,   4.,   0.,   2.,\n",
       "         40.,   2.,   1.,   2.,   3.,   0.,   4.,   3.,   0.,   0.,   1.,\n",
       "          0.,   1.,   1.,   5.,   0.,   2.,   2.,   1.,   4.,   2.,   1.,\n",
       "          0.,   0.,   2.,   0.,   0.,   3.,   0.,   0.,   1.,   0.,   0.,\n",
       "          1.,   2.,   0.,   0.,   0.,   0.,   2.,   1.,   0.,   0.,   1.,\n",
       "          3.,   0.,   1.,   0.,   1.,   0.,   0.,   0.,   0.,   0.,   2.,\n",
       "          0.,   0.,   0.,   0.,   4.,   0.,   0.,   0.,   0.,   0.,   0.,\n",
       "          0.,   5.,   0.,   0.,   0.,   0.,   0.,   0.,   0.,   0.,   0.,\n",
       "          0.,   0.,   0.,   0.,   0.,   0.,   0.,   0.,   0.,   0.,   0.,\n",
       "          0.,   0.,   0.,   0.,   0.,   0.,   0.,   0.,   0.,   0.,   0.,\n",
       "          0.,   0.,   0.,   0.,   0.,   0.,   0.,   0.,   0.,   0.,   0.,\n",
       "          0.,   0.,   0.,   0.,   0.,   0.,   0.,   0.,   0.,   0.,   0.,\n",
       "          0.,   0.,   0.,   0.,   0.,   0.,   0.,   0.,   0.,   0.,   0.,\n",
       "          1.,   2.]),\n",
       " array([  1.   ,   2.255,   3.51 ,   4.765,   6.02 ,   7.275,   8.53 ,\n",
       "          9.785,  11.04 ,  12.295,  13.55 ,  14.805,  16.06 ,  17.315,\n",
       "         18.57 ,  19.825,  21.08 ,  22.335,  23.59 ,  24.845,  26.1  ,\n",
       "         27.355,  28.61 ,  29.865,  31.12 ,  32.375,  33.63 ,  34.885,\n",
       "         36.14 ,  37.395,  38.65 ,  39.905,  41.16 ,  42.415,  43.67 ,\n",
       "         44.925,  46.18 ,  47.435,  48.69 ,  49.945,  51.2  ,  52.455,\n",
       "         53.71 ,  54.965,  56.22 ,  57.475,  58.73 ,  59.985,  61.24 ,\n",
       "         62.495,  63.75 ,  65.005,  66.26 ,  67.515,  68.77 ,  70.025,\n",
       "         71.28 ,  72.535,  73.79 ,  75.045,  76.3  ,  77.555,  78.81 ,\n",
       "         80.065,  81.32 ,  82.575,  83.83 ,  85.085,  86.34 ,  87.595,\n",
       "         88.85 ,  90.105,  91.36 ,  92.615,  93.87 ,  95.125,  96.38 ,\n",
       "         97.635,  98.89 , 100.145, 101.4  , 102.655, 103.91 , 105.165,\n",
       "        106.42 , 107.675, 108.93 , 110.185, 111.44 , 112.695, 113.95 ,\n",
       "        115.205, 116.46 , 117.715, 118.97 , 120.225, 121.48 , 122.735,\n",
       "        123.99 , 125.245, 126.5  , 127.755, 129.01 , 130.265, 131.52 ,\n",
       "        132.775, 134.03 , 135.285, 136.54 , 137.795, 139.05 , 140.305,\n",
       "        141.56 , 142.815, 144.07 , 145.325, 146.58 , 147.835, 149.09 ,\n",
       "        150.345, 151.6  , 152.855, 154.11 , 155.365, 156.62 , 157.875,\n",
       "        159.13 , 160.385, 161.64 , 162.895, 164.15 , 165.405, 166.66 ,\n",
       "        167.915, 169.17 , 170.425, 171.68 , 172.935, 174.19 , 175.445,\n",
       "        176.7  , 177.955, 179.21 , 180.465, 181.72 , 182.975, 184.23 ,\n",
       "        185.485, 186.74 , 187.995, 189.25 , 190.505, 191.76 , 193.015,\n",
       "        194.27 , 195.525, 196.78 , 198.035, 199.29 , 200.545, 201.8  ,\n",
       "        203.055, 204.31 , 205.565, 206.82 , 208.075, 209.33 , 210.585,\n",
       "        211.84 , 213.095, 214.35 , 215.605, 216.86 , 218.115, 219.37 ,\n",
       "        220.625, 221.88 , 223.135, 224.39 , 225.645, 226.9  , 228.155,\n",
       "        229.41 , 230.665, 231.92 , 233.175, 234.43 , 235.685, 236.94 ,\n",
       "        238.195, 239.45 , 240.705, 241.96 , 243.215, 244.47 , 245.725,\n",
       "        246.98 , 248.235, 249.49 , 250.745, 252.   ]),\n",
       " <BarContainer object of 200 artists>)"
      ]
     },
     "execution_count": 73,
     "metadata": {},
     "output_type": "execute_result"
    },
    {
     "data": {
      "image/png": "[encoded data removed]",
      "text/plain": [
       "<Figure size 432x288 with 1 Axes>"
      ]
     },
     "metadata": {
      "needs_background": "light"
     },
     "output_type": "display_data"
    }
   ],
   "source": [
    "plt.hist(df['retail_price'], bins=200)"
   ]
  },
  {
   "cell_type": "code",
   "execution_count": 62,
   "id": "7f7c7153",
   "metadata": {},
   "outputs": [],
   "source": [
    "df['discount']=df['retail_price']-df['price']"
   ]
  },
  {
   "cell_type": "code",
   "execution_count": 84,
   "id": "2409582c",
   "metadata": {
    "scrolled": false
   },
   "outputs": [
    {
     "data": {
      "text/html": [
       "<div>\n",
       "<style scoped>\n",
       "    .dataframe tbody tr th:only-of-type {\n",
       "        vertical-align: middle;\n",
       "    }\n",
       "\n",
       "    .dataframe tbody tr th {\n",
       "        vertical-align: top;\n",
       "    }\n",
       "\n",
       "    .dataframe thead th {\n",
       "        text-align: right;\n",
       "    }\n",
       "</style>\n",
       "<table border=\"1\" class=\"dataframe\">\n",
       "  <thead>\n",
       "    <tr style=\"text-align: right;\">\n",
       "      <th></th>\n",
       "      <th>discount</th>\n",
       "    </tr>\n",
       "  </thead>\n",
       "  <tbody>\n",
       "    <tr>\n",
       "      <th>0</th>\n",
       "      <td>-2.00</td>\n",
       "    </tr>\n",
       "    <tr>\n",
       "      <th>1</th>\n",
       "      <td>14.00</td>\n",
       "    </tr>\n",
       "    <tr>\n",
       "      <th>2</th>\n",
       "      <td>35.00</td>\n",
       "    </tr>\n",
       "    <tr>\n",
       "      <th>3</th>\n",
       "      <td>0.00</td>\n",
       "    </tr>\n",
       "    <tr>\n",
       "      <th>4</th>\n",
       "      <td>0.28</td>\n",
       "    </tr>\n",
       "    <tr>\n",
       "      <th>...</th>\n",
       "      <td>...</td>\n",
       "    </tr>\n",
       "    <tr>\n",
       "      <th>1568</th>\n",
       "      <td>3.00</td>\n",
       "    </tr>\n",
       "    <tr>\n",
       "      <th>1569</th>\n",
       "      <td>54.00</td>\n",
       "    </tr>\n",
       "    <tr>\n",
       "      <th>1570</th>\n",
       "      <td>14.00</td>\n",
       "    </tr>\n",
       "    <tr>\n",
       "      <th>1571</th>\n",
       "      <td>-2.00</td>\n",
       "    </tr>\n",
       "    <tr>\n",
       "      <th>1572</th>\n",
       "      <td>-1.00</td>\n",
       "    </tr>\n",
       "  </tbody>\n",
       "</table>\n",
       "<p>1539 rows × 1 columns</p>\n",
       "</div>"
      ],
      "text/plain": [
       "      discount\n",
       "0        -2.00\n",
       "1        14.00\n",
       "2        35.00\n",
       "3         0.00\n",
       "4         0.28\n",
       "...        ...\n",
       "1568      3.00\n",
       "1569     54.00\n",
       "1570     14.00\n",
       "1571     -2.00\n",
       "1572     -1.00\n",
       "\n",
       "[1539 rows x 1 columns]"
      ]
     },
     "execution_count": 84,
     "metadata": {},
     "output_type": "execute_result"
    }
   ],
   "source": [
    "df.iloc[:,[38]]"
   ]
  },
  {
   "cell_type": "code",
   "execution_count": 64,
   "id": "26050a11",
   "metadata": {
    "scrolled": false
   },
   "outputs": [
    {
     "data": {
      "text/plain": [
       "(array([ 93., 831., 112.,  70.,  54.,  44.,  42.,  18.,  29.,  37.,  22.,\n",
       "         20.,  25.,  12.,  14.,  30.,  29.,   5.,   6.,   7.,   7.,   3.,\n",
       "          1.,   2.,   1.,   4.,   2.,   2.,   3.,   4.,   2.,   2.,   3.,\n",
       "          0.,   0.,   0.,   0.,   0.,   0.,   0.,   0.,   0.,   0.,   0.,\n",
       "          0.,   0.,   0.,   0.,   0.,   3.]),\n",
       " array([ -7.  ,  -1.98,   3.04,   8.06,  13.08,  18.1 ,  23.12,  28.14,\n",
       "         33.16,  38.18,  43.2 ,  48.22,  53.24,  58.26,  63.28,  68.3 ,\n",
       "         73.32,  78.34,  83.36,  88.38,  93.4 ,  98.42, 103.44, 108.46,\n",
       "        113.48, 118.5 , 123.52, 128.54, 133.56, 138.58, 143.6 , 148.62,\n",
       "        153.64, 158.66, 163.68, 168.7 , 173.72, 178.74, 183.76, 188.78,\n",
       "        193.8 , 198.82, 203.84, 208.86, 213.88, 218.9 , 223.92, 228.94,\n",
       "        233.96, 238.98, 244.  ]),\n",
       " <BarContainer object of 50 artists>)"
      ]
     },
     "execution_count": 64,
     "metadata": {},
     "output_type": "execute_result"
    },
    {
     "data": {
      "image/png": "[encoded data removed]",
      "text/plain": [
       "<Figure size 432x288 with 1 Axes>"
      ]
     },
     "metadata": {
      "needs_background": "light"
     },
     "output_type": "display_data"
    }
   ],
   "source": [
    "plt.hist(df['discount'], bins=50)"
   ]
  },
  {
   "cell_type": "code",
   "execution_count": 72,
   "id": "e506ec93",
   "metadata": {},
   "outputs": [
    {
     "data": {
      "text/plain": [
       "(array([ 37.,  69.,  67.,  51., 154., 154., 124., 277., 125.,   0., 197.,\n",
       "         81.,  54.,  56.,  22.,  41.,   2.,   9.,   6.,   4.,   0.,   3.,\n",
       "          1.,   1.,   0.,   1.,   1.,   1.,   0.,   0.,   0.,   0.,   0.,\n",
       "          0.,   0.,   0.,   0.,   0.,   0.,   0.,   0.,   0.,   0.,   0.,\n",
       "          0.,   0.,   0.,   0.,   0.,   1.]),\n",
       " array([ 1.  ,  1.96,  2.92,  3.88,  4.84,  5.8 ,  6.76,  7.72,  8.68,\n",
       "         9.64, 10.6 , 11.56, 12.52, 13.48, 14.44, 15.4 , 16.36, 17.32,\n",
       "        18.28, 19.24, 20.2 , 21.16, 22.12, 23.08, 24.04, 25.  , 25.96,\n",
       "        26.92, 27.88, 28.84, 29.8 , 30.76, 31.72, 32.68, 33.64, 34.6 ,\n",
       "        35.56, 36.52, 37.48, 38.44, 39.4 , 40.36, 41.32, 42.28, 43.24,\n",
       "        44.2 , 45.16, 46.12, 47.08, 48.04, 49.  ]),\n",
       " <BarContainer object of 50 artists>)"
      ]
     },
     "execution_count": 72,
     "metadata": {},
     "output_type": "execute_result"
    },
    {
     "data": {
      "image/png": "[encoded data removed]",
      "text/plain": [
       "<Figure size 432x288 with 1 Axes>"
      ]
     },
     "metadata": {
      "needs_background": "light"
     },
     "output_type": "display_data"
    }
   ],
   "source": [
    "plt.hist(df['price'], bins=50)"
   ]
  },
  {
   "cell_type": "code",
   "execution_count": 74,
   "id": "f791d7d5",
   "metadata": {},
   "outputs": [
    {
     "data": {
      "text/plain": [
       "0.0    1071\n",
       "1.0     468\n",
       "Name: has_urgency_banner, dtype: int64"
      ]
     },
     "execution_count": 74,
     "metadata": {},
     "output_type": "execute_result"
    }
   ],
   "source": [
    "df['has_urgency_banner'].value_counts()"
   ]
  },
  {
   "cell_type": "code",
   "execution_count": 86,
   "id": "1eab5af4",
   "metadata": {},
   "outputs": [
    {
     "data": {
      "text/plain": [
       "<AxesSubplot:>"
      ]
     },
     "execution_count": 86,
     "metadata": {},
     "output_type": "execute_result"
    },
    {
     "data": {
      "image/png": "[encoded data removed]",
      "text/plain": [
       "<Figure size 432x288 with 1 Axes>"
      ]
     },
     "metadata": {
      "needs_background": "light"
     },
     "output_type": "display_data"
    }
   ],
   "source": [
    "df['has_urgency_banner'].value_counts().plot(kind='bar')"
   ]
  },
  {
   "cell_type": "code",
   "execution_count": 75,
   "id": "8cd39004",
   "metadata": {},
   "outputs": [
    {
     "data": {
      "text/plain": [
       "Ttest_indResult(statistic=-0.3330982429647384, pvalue=0.7391055556424455)"
      ]
     },
     "execution_count": 75,
     "metadata": {},
     "output_type": "execute_result"
    }
   ],
   "source": [
    "ttest_ind(df['discount'][df['has_urgency_banner']==1],df['discount'][df['has_urgency_banner']==0]) "
   ]
  }
 ],
 "metadata": {
  "kernelspec": {
   "display_name": "Python 3",
   "language": "python",
   "name": "python3"
  },
  "language_info": {
   "codemirror_mode": {
    "name": "ipython",
    "version": 3
   },
   "file_extension": ".py",
   "mimetype": "text/x-python",
   "name": "python",
   "nbconvert_exporter": "python",
   "pygments_lexer": "ipython3",
   "version": "3.8.8"
  }
 },
 "nbformat": 4,
 "nbformat_minor": 5
}
